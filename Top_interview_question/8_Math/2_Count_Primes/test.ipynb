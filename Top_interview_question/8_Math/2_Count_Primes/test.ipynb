{
 "cells": [
  {
   "cell_type": "markdown",
   "metadata": {},
   "source": [
    "Given an integer n, return the number of prime numbers that are strictly less than n.\n",
    "\n",
    " \n",
    "\n",
    "Example 1:\n",
    "\n",
    "Input: n = 10\n",
    "Output: 4\n",
    "Explanation: There are 4 prime numbers less than 10, they are 2, 3, 5, 7.\n",
    "Example 2:\n",
    "\n",
    "Input: n = 0\n",
    "Output: 0\n",
    "Example 3:\n",
    "\n",
    "Input: n = 1\n",
    "Output: 0\n",
    " \n",
    "\n",
    "Constraints:\n",
    "\n",
    "0 <= n <= 5 * 106\n",
    "\n",
    "prime number (소수) : 1보다 큰 자연수 중 1과 자기 자신만을 약수로 가지는 수다."
   ]
  },
  {
   "cell_type": "code",
   "execution_count": 16,
   "metadata": {},
   "outputs": [
    {
     "name": "stdout",
     "output_type": "stream",
     "text": [
      "[]\n"
     ]
    }
   ],
   "source": [
    "def sieve_of_eratosthenes(limit):\n",
    "\tif limit in [0, 1] : \n",
    "\t\treturn [limit]\n",
    "\tsieve = [True] * (limit + 1)\n",
    "\tsieve[0] = sieve[1] = False  # 0과 1은 소수가 아님\n",
    "\n",
    "\tfor i in range(2, int(limit ** 0.5) + 1):\n",
    "\t\tif sieve[i]:\n",
    "\t\t\tfor j in range(i * i, limit + 1, i):\n",
    "\t\t\t\tsieve[j] = False\n",
    "\n",
    "\treturn [num for num, is_prime in enumerate(sieve) if is_prime]\n",
    "\n",
    "n = 2\n",
    "output = sieve_of_eratosthenes(n)\n",
    "if output[-1] == n : \n",
    "\tdel output[-1]\n",
    "print(output)"
   ]
  },
  {
   "cell_type": "code",
   "execution_count": 3,
   "metadata": {},
   "outputs": [
    {
     "data": {
      "text/plain": [
       "[1]"
      ]
     },
     "execution_count": 3,
     "metadata": {},
     "output_type": "execute_result"
    }
   ],
   "source": [
    "[1] * 1"
   ]
  }
 ],
 "metadata": {
  "kernelspec": {
   "display_name": "Python 3",
   "language": "python",
   "name": "python3"
  },
  "language_info": {
   "codemirror_mode": {
    "name": "ipython",
    "version": 3
   },
   "file_extension": ".py",
   "mimetype": "text/x-python",
   "name": "python",
   "nbconvert_exporter": "python",
   "pygments_lexer": "ipython3",
   "version": "3.12.6"
  }
 },
 "nbformat": 4,
 "nbformat_minor": 2
}
