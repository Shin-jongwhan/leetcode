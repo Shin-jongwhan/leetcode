{
 "cells": [
  {
   "cell_type": "code",
   "execution_count": 3,
   "metadata": {},
   "outputs": [
    {
     "name": "stdout",
     "output_type": "stream",
     "text": [
      "[1, 2]\n"
     ]
    }
   ],
   "source": [
    "#nums = [2,7,11,15]\n",
    "#target = 9\n",
    "\n",
    "nums = [3,2,4]\n",
    "target = 6\n",
    "\n",
    "output = [0, 0]\n",
    "blOutput = False\n",
    "for i in range(0, len(nums) - 1) : \n",
    "\tfor j in range(i + 1, len(nums)) : \n",
    "\t\tif nums[i] + nums[j] == target : \n",
    "\t\t\toutput = [i, j]\n",
    "\t\t\tblOutput = True\n",
    "\t\t\tbreak\n",
    "\tif blOutput == True : \n",
    "\t\tbreak\n",
    "\n",
    "print(output)"
   ]
  }
 ],
 "metadata": {
  "kernelspec": {
   "display_name": "Python 3",
   "language": "python",
   "name": "python3"
  },
  "language_info": {
   "codemirror_mode": {
    "name": "ipython",
    "version": 3
   },
   "file_extension": ".py",
   "mimetype": "text/x-python",
   "name": "python",
   "nbconvert_exporter": "python",
   "pygments_lexer": "ipython3",
   "version": "3.12.6"
  }
 },
 "nbformat": 4,
 "nbformat_minor": 2
}
