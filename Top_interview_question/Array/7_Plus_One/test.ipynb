{
 "cells": [
  {
   "cell_type": "code",
   "execution_count": 55,
   "metadata": {},
   "outputs": [
    {
     "name": "stdout",
     "output_type": "stream",
     "text": [
      "[1, 2, 4]\n"
     ]
    }
   ],
   "source": [
    "digits = [1,2,3]\n",
    "#digits = [4,3,2,1]\n",
    "#digits = [4,3,2,9]\n",
    "#digits = [9]\n",
    "#digits = [9,9]\n",
    "\n",
    "def inc(digits, digit) : \n",
    "\tn = len(digits) - digit - 1\n",
    "\tdigits[n] += 1\n",
    "\tif digits[n] == 10 : \n",
    "\t\tdigits[n] = 0\n",
    "\t\t#print(digit, len(digits) - 1, digits)\n",
    "\t\tif digit == len(digits) - 1 : \n",
    "\t\t\tprint(digit, len(digits) - 1, digits)\n",
    "\t\t\tdigits = [1] + digits\n",
    "\t\t\treturn digits, digit\n",
    "\t\telse : \n",
    "\t\t\tdigit += 1\n",
    "\n",
    "\treturn digits, digit\n",
    "\n",
    "digit = 0\n",
    "while True : \n",
    "\tdigits, digit_tmp = inc(digits, digit)\n",
    "\tif digit_tmp != digit : \n",
    "\t\tdigit = digit_tmp\n",
    "\telse : \n",
    "\t\tbreak\n",
    "\t\n",
    "print(digits)"
   ]
  },
  {
   "cell_type": "code",
   "execution_count": 21,
   "metadata": {},
   "outputs": [
    {
     "name": "stdout",
     "output_type": "stream",
     "text": [
      "[1, 0, 0]\n"
     ]
    }
   ],
   "source": [
    "ls = [1] + [0,0]\n",
    "print(ls)"
   ]
  }
 ],
 "metadata": {
  "kernelspec": {
   "display_name": "Python 3",
   "language": "python",
   "name": "python3"
  },
  "language_info": {
   "codemirror_mode": {
    "name": "ipython",
    "version": 3
   },
   "file_extension": ".py",
   "mimetype": "text/x-python",
   "name": "python",
   "nbconvert_exporter": "python",
   "pygments_lexer": "ipython3",
   "version": "3.12.6"
  }
 },
 "nbformat": 4,
 "nbformat_minor": 2
}
