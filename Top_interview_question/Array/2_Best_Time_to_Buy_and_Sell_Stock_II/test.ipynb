{
 "cells": [
  {
   "cell_type": "code",
   "execution_count": 34,
   "metadata": {},
   "outputs": [
    {
     "name": "stdout",
     "output_type": "stream",
     "text": [
      "[6, 1, 3, 2, 4, 7]\n",
      "7\n"
     ]
    }
   ],
   "source": [
    "# 첫 날부터 사서, 이득이 나면 판다.\n",
    "# 만약 더 저렴한 게 나왔다면, 그걸로 대체한다(현실이 아니므로 가능한 일).\n",
    "\n",
    "#prices = [7,1,5,3,6,4]\n",
    "#prices = [1,2,3,4,5]\n",
    "#prices = [7,6,4,3,1]\n",
    "#prices = [7,6,4,3,2,4,1,7]\n",
    "prices = [6,1,3,2,4,7]\n",
    "print(prices)\n",
    "\n",
    "nOutput = 0\n",
    "buy = prices[0]\n",
    "for i in range(0, len(prices)) : \n",
    "\tif prices[i] - buy > 0 : \n",
    "\t\tnOutput += prices[i] - buy\n",
    "\t\tbuy = prices[i]\n",
    "\telse : \n",
    "\t\tbuy = min(buy, prices[i])\n",
    "\n",
    "print(nOutput)\n",
    "#return nOutput"
   ]
  }
 ],
 "metadata": {
  "kernelspec": {
   "display_name": "Python 3",
   "language": "python",
   "name": "python3"
  },
  "language_info": {
   "codemirror_mode": {
    "name": "ipython",
    "version": 3
   },
   "file_extension": ".py",
   "mimetype": "text/x-python",
   "name": "python",
   "nbconvert_exporter": "python",
   "pygments_lexer": "ipython3",
   "version": "3.12.6"
  }
 },
 "nbformat": 4,
 "nbformat_minor": 2
}
