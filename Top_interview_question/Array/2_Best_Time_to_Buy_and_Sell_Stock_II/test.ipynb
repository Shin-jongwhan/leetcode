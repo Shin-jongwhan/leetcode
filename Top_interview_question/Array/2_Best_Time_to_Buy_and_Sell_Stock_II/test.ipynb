{
 "cells": [
  {
   "cell_type": "code",
   "execution_count": 29,
   "metadata": {},
   "outputs": [
    {
     "name": "stdout",
     "output_type": "stream",
     "text": [
      "[6, 1, 3, 2, 4, 7, 6, 1, 3, 2, 4, 7]\n",
      "{0: [5, 6], 1: [2, 2], 2: [5, 5], 3: [5, 5], 4: [5, 3], 5: [11, 6], 6: [11, 6], 7: [8, 2], 8: [11, 5], 9: [11, 5], 10: [11, 3], 11: [-1, -1]}\n",
      "13\n"
     ]
    }
   ],
   "source": [
    "#prices = [7,1,5,3,6,4]\n",
    "#prices = [1,2,3,4,5]\n",
    "#prices = [7,6,4,3,1]\n",
    "#prices = [7,6,4,3,2,4,1,7]\n",
    "prices = [6,1,3,2,4,7]\n",
    "print(prices)\n",
    "dic = {i: [-1, -1] for i in range(0, len(prices))}\n",
    "\n",
    "for i in range(0, len(prices)) : \n",
    "\tflEfficiency = 0.0\n",
    "\tlsMax_eff = [-1, -1]\n",
    "\tfor j in range(i, len(prices) - 1) : \n",
    "\t\tfor k in range(j + 1, len(prices)) : \n",
    "\t\t\t#print(i, j, k)\n",
    "\t\t\t#print((prices[k] - prices[j]) / (k - i))\n",
    "\t\t\tif (prices[k] - prices[j]) / (k - i) > flEfficiency : \n",
    "\t\t\t\tflEfficiency = (prices[k] - prices[j]) / (k - i)\n",
    "\t\t\t\tlsMax_eff = [k, prices[k] - prices[j]]\n",
    "\tdic[i] = lsMax_eff\n",
    "\n",
    "print(dic)\n",
    "\n",
    "nDate = 0\n",
    "nOutput = 0\n",
    "for i in dic.keys() : \n",
    "\tnDate = i\n",
    "\tnOutput_tmp = 0\n",
    "\twhile dic[nDate][0] != -1 : \n",
    "\t\tnOutput_tmp += dic[nDate][1]\n",
    "\t\tnDate = dic[nDate][0]\n",
    "\n",
    "\tif nOutput < nOutput_tmp : \n",
    "\t\tnOutput = nOutput_tmp\n",
    "\n",
    "print(nOutput)\n",
    "#return nOutput"
   ]
  }
 ],
 "metadata": {
  "kernelspec": {
   "display_name": "Python 3",
   "language": "python",
   "name": "python3"
  },
  "language_info": {
   "codemirror_mode": {
    "name": "ipython",
    "version": 3
   },
   "file_extension": ".py",
   "mimetype": "text/x-python",
   "name": "python",
   "nbconvert_exporter": "python",
   "pygments_lexer": "ipython3",
   "version": "3.12.6"
  }
 },
 "nbformat": 4,
 "nbformat_minor": 2
}
