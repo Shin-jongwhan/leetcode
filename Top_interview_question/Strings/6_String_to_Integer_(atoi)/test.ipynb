{
 "cells": [
  {
   "cell_type": "code",
   "execution_count": 136,
   "metadata": {},
   "outputs": [
    {
     "name": "stdout",
     "output_type": "stream",
     "text": [
      "2147483647\n"
     ]
    }
   ],
   "source": [
    "s = \"042\"\n",
    "s = \" -042\"\n",
    "s = \"1337c0d3\"\n",
    "s = \"0-1\"\n",
    "s = \"-91283472332\"\n",
    "s = \".1\"\n",
    "s = \"+1\"\n",
    "s = \"+-12\"\n",
    "s = \"21474836460\"\n",
    "s = \"   +0 123\"\n",
    "s = \"20000000000000000000\"\n",
    "\n",
    "def test(s) : \n",
    "\ts = s.lstrip()\n",
    "\ts2 = \"\"\n",
    "\t\n",
    "\tblZero_ignore = False\n",
    "\tfor i in range(0, len(s)) : \n",
    "\t\t#print(i, s[i])\n",
    "\t\tif i == 0 : \n",
    "\t\t\tif s[i] == \"-\" or s[i] == \"+\" or s[i].isnumeric() == True and s[i] != '0' : \n",
    "\t\t\t\ts2 += s[i]\n",
    "\t\t\t\tblZero_ignore = True\n",
    "\t\t\telif s[i].isnumeric() == False : \n",
    "\t\t\t\treturn 0\n",
    "\t\telse : \n",
    "\t\t\tif s[i].isnumeric() == True : \n",
    "\t\t\t\tif blZero_ignore == False and s[i] == '0' : \n",
    "\t\t\t\t\tcontinue\n",
    "\t\t\t\telse : \n",
    "\t\t\t\t\ts2 += s[i]\n",
    "\t\t\t\t\tblZero_ignore = True\n",
    "\t\t\telif s[i].isnumeric() == False : \n",
    "\t\t\t\tbreak\n",
    "\t\n",
    "\tif len(s2) == 0: \n",
    "\t\treturn 0\n",
    "\telif s2 == '-' or s2 == '+': \n",
    "\t\treturn 0\n",
    "\n",
    "\ts2 = int(s2)\n",
    "\tif s2 < -(2 ** 31) : \n",
    "\t\treturn -2 ** 31\n",
    "\telif s2 > 2 ** 31 - 1 : \n",
    "\t\treturn 2 ** 31 - 1\n",
    "\telse : \n",
    "\t\treturn s2\n",
    "\n",
    "\n",
    "output = test(s)\n",
    "print(output)"
   ]
  },
  {
   "cell_type": "code",
   "execution_count": 48,
   "metadata": {},
   "outputs": [
    {
     "name": "stdout",
     "output_type": "stream",
     "text": [
      "2147483647\n"
     ]
    }
   ],
   "source": [
    "print(2 ** 31 - 1)"
   ]
  }
 ],
 "metadata": {
  "kernelspec": {
   "display_name": "Python 3",
   "language": "python",
   "name": "python3"
  },
  "language_info": {
   "codemirror_mode": {
    "name": "ipython",
    "version": 3
   },
   "file_extension": ".py",
   "mimetype": "text/x-python",
   "name": "python",
   "nbconvert_exporter": "python",
   "pygments_lexer": "ipython3",
   "version": "3.12.6"
  }
 },
 "nbformat": 4,
 "nbformat_minor": 2
}
