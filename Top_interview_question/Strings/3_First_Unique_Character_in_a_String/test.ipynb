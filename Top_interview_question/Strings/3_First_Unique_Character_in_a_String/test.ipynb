{
 "cells": [
  {
   "cell_type": "code",
   "execution_count": 8,
   "metadata": {},
   "outputs": [
    {
     "name": "stdout",
     "output_type": "stream",
     "text": [
      "{'a': [0, 1], 'b': [2, 3]}\n",
      "{1: 'a', 2: 'b'}\n",
      "-1\n"
     ]
    }
   ],
   "source": [
    "s = \"leetcode\"\n",
    "s = \"loveleetcode\"\n",
    "s = \"aabb\"\n",
    "\n",
    "\n",
    "def test() : \n",
    "\t# 등장순서\n",
    "\t# 각 문자의 등장 개수\n",
    "\t## * 참고로 딕셔너리는 순서가 없긴 하지만 여기서는 무시한다.\n",
    "\tdicOrder = {}\n",
    "\tdicNum_chr = {}\n",
    "\n",
    "\tn = 1\n",
    "\tfor i in range(0, len(s)) : \n",
    "\t\tif s[i] not in dicNum_chr.keys() : \n",
    "\t\t\tdicNum_chr[s[i]] = [i]\n",
    "\t\t\tdicOrder[n] = s[i]\n",
    "\t\t\tn += 1\n",
    "\t\telse : \n",
    "\t\t\tdicNum_chr[s[i]].append(i)\n",
    "\n",
    "\tprint(dicNum_chr)\n",
    "\tprint(dicOrder)\n",
    "\tfor i in dicOrder.keys() : \n",
    "\t\tif len(dicNum_chr[dicOrder[i]]) == 1 : \n",
    "\t\t\t#print(dicNum_chr[dicOrder[i]][0])\n",
    "\t\t\treturn dicNum_chr[dicOrder[i]][0]\n",
    "\t\n",
    "\treturn -1\n",
    "\n",
    "output = test()\n",
    "print(output)"
   ]
  }
 ],
 "metadata": {
  "kernelspec": {
   "display_name": "Python 3",
   "language": "python",
   "name": "python3"
  },
  "language_info": {
   "codemirror_mode": {
    "name": "ipython",
    "version": 3
   },
   "file_extension": ".py",
   "mimetype": "text/x-python",
   "name": "python",
   "nbconvert_exporter": "python",
   "pygments_lexer": "ipython3",
   "version": "3.12.6"
  }
 },
 "nbformat": 4,
 "nbformat_minor": 2
}
