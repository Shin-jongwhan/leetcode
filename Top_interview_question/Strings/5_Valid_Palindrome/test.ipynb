{
 "cells": [
  {
   "cell_type": "code",
   "execution_count": 57,
   "metadata": {},
   "outputs": [
    {
     "name": "stdout",
     "output_type": "stream",
     "text": [
      "0p\n",
      "p\n",
      "0\n",
      "0\n",
      "False\n"
     ]
    }
   ],
   "source": [
    "#s = \"A man, a plan, a canal: Panama\"\n",
    "s = 'aa'\n",
    "s = '0P'\n",
    "\n",
    "# 1. after converting all uppercase letters into lowercase letters and removing all non-alphanumeric characters,\n",
    "# 아스키코드 이용\n",
    "# a-z : 97-122\n",
    "# A-Z : 65-90\n",
    "#print(ord(\"A\"))\n",
    "\n",
    "\n",
    "def test(s) : \n",
    "\ts = \"\".join([i for i in s.lower() if (ord(i) >= 97 and ord(i) <= 122) or (ord(i) >= 48 and ord(i) <= 57)])\n",
    "\tprint(s)\n",
    "\tprint(s[:int(len(s) / 2) - 1 : -1])\n",
    "\tprint(s[ : int(len(s) / 2)])\n",
    "\tprint(len(s) % 2)\n",
    "\tif len(s) % 2 == 1 : \n",
    "\t\tif s[:int(len(s) / 2) : -1] == s[ : int(len(s) / 2)] : \n",
    "\t\t\treturn True\n",
    "\t\telse : \n",
    "\t\t\treturn False\n",
    "\telse : \n",
    "\t\tif s[:int(len(s) / 2) - 1 : -1] == s[ : int(len(s) / 2)]  : \n",
    "\t\t\treturn True\n",
    "\t\telse : \n",
    "\t\t\treturn False\n",
    "\t\t\n",
    "\n",
    "print(test(s))"
   ]
  }
 ],
 "metadata": {
  "kernelspec": {
   "display_name": "Python 3",
   "language": "python",
   "name": "python3"
  },
  "language_info": {
   "codemirror_mode": {
    "name": "ipython",
    "version": 3
   },
   "file_extension": ".py",
   "mimetype": "text/x-python",
   "name": "python",
   "nbconvert_exporter": "python",
   "pygments_lexer": "ipython3",
   "version": "3.12.6"
  }
 },
 "nbformat": 4,
 "nbformat_minor": 2
}
