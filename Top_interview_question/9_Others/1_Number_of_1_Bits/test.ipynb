{
 "cells": [
  {
   "cell_type": "markdown",
   "metadata": {},
   "source": [
    "Given a positive integer n, write a function that returns the number of set bits in its binary representation (also known as the Hamming weight).\n",
    "\n",
    "Example 1:\n",
    "\n",
    "Input: n = 11\n",
    "\n",
    "Output: 3\n",
    "\n",
    "Explanation:\n",
    "\n",
    "The input binary string 1011 has a total of three set bits.\n",
    "\n",
    "Example 2:\n",
    "\n",
    "Input: n = 128\n",
    "\n",
    "Output: 1\n",
    "\n",
    "Explanation:\n",
    "\n",
    "The input binary string 10000000 has a total of one set bit.\n",
    "\n",
    "Example 3:\n",
    "\n",
    "Input: n = 2147483645\n",
    "\n",
    "Output: 30\n",
    "\n",
    "Explanation:\n",
    "\n",
    "The input binary string 1111111111111111111111111111101 has a total of thirty set bits.\n",
    "\n",
    "Constraints:\n",
    "\n",
    "1 <= n <= 231 - 1\n",
    "\n",
    "Follow up: If this function is called many times, how would you optimize it?"
   ]
  },
  {
   "cell_type": "code",
   "execution_count": 1,
   "metadata": {},
   "outputs": [
    {
     "name": "stdout",
     "output_type": "stream",
     "text": [
      "Binary representation of 12345: 11000000111001\n",
      "Number of 1s: 6\n"
     ]
    }
   ],
   "source": [
    "# set bit : 1인 bit\n",
    "n = 12345  # 예시 숫자\n",
    "binary_representation = bin(n)[2:]  # 2진수 문자열, '0b' 접두어 제거\n",
    "count_of_ones = binary_representation.count('1')  # 1의 개수 세기\n",
    "\n",
    "print(f\"Binary representation of {n}: {binary_representation}\")\n",
    "print(f\"Number of 1s: {count_of_ones}\")"
   ]
  }
 ],
 "metadata": {
  "kernelspec": {
   "display_name": "Python 3",
   "language": "python",
   "name": "python3"
  },
  "language_info": {
   "codemirror_mode": {
    "name": "ipython",
    "version": 3
   },
   "file_extension": ".py",
   "mimetype": "text/x-python",
   "name": "python",
   "nbconvert_exporter": "python",
   "pygments_lexer": "ipython3",
   "version": "3.12.6"
  }
 },
 "nbformat": 4,
 "nbformat_minor": 2
}
