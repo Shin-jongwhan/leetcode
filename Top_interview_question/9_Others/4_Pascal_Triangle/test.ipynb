{
 "cells": [
  {
   "cell_type": "markdown",
   "metadata": {},
   "source": [
    "Given an integer numRows, return the first numRows of Pascal's triangle.\n",
    "\n",
    "In Pascal's triangle, each number is the sum of the two numbers directly above it as shown:\n",
    "\n",
    "\n",
    "Example 1:\n",
    "\n",
    "Input: numRows = 5\n",
    "Output: [[1],[1,1],[1,2,1],[1,3,3,1],[1,4,6,4,1]]\n",
    "\n",
    "Example 2:\n",
    "\n",
    "Input: numRows = 1\n",
    "Output: [[1]]\n",
    " \n",
    "\n",
    "Constraints:\n",
    "\n",
    "1 <= numRows <= 30"
   ]
  },
  {
   "cell_type": "code",
   "execution_count": 11,
   "metadata": {},
   "outputs": [
    {
     "name": "stdout",
     "output_type": "stream",
     "text": [
      "[[1], [1, 1], [0, 0, 0]]\n",
      "[[1], [1, 1], [1, 2, 1], [0, 0, 0, 0]]\n",
      "[[1], [1, 1], [1, 2, 1], [1, 3, 3, 1], [0, 0, 0, 0, 0]]\n",
      "[[1], [1, 1], [1, 2, 1], [1, 3, 3, 1], [1, 4, 6, 4, 1]]\n"
     ]
    }
   ],
   "source": [
    "row = 5\n",
    "\n",
    "\n",
    "def pascal_triangle() : \n",
    "\tls = [[1]]\n",
    "\tif row == 1 : \n",
    "\t\treturn ls\n",
    "\telif row == 2 : \n",
    "\t\tls.append([1,1])\n",
    "\t\treturn ls\n",
    "\telse : \n",
    "\t\tls.append([1,1])\n",
    "\n",
    "\tfor i in range(2, row) : \n",
    "\t\tls.append([0] * (i + 1))\n",
    "\t\tprint(ls)\n",
    "\t\tls[i][0] = 1\n",
    "\t\tls[i][-1] = 1\n",
    "\t\tfor j in range(1, len(ls[i]) - 1) : \n",
    "\t\t\tls[i][j] = ls[i - 1][j - 1] + ls[i - 1][j]\n",
    "\n",
    "\treturn ls\n",
    "\n",
    "\n",
    "ls = pascal_triangle()\n",
    "print(ls)"
   ]
  }
 ],
 "metadata": {
  "kernelspec": {
   "display_name": "Python 3",
   "language": "python",
   "name": "python3"
  },
  "language_info": {
   "codemirror_mode": {
    "name": "ipython",
    "version": 3
   },
   "file_extension": ".py",
   "mimetype": "text/x-python",
   "name": "python",
   "nbconvert_exporter": "python",
   "pygments_lexer": "ipython3",
   "version": "3.12.6"
  }
 },
 "nbformat": 4,
 "nbformat_minor": 2
}
