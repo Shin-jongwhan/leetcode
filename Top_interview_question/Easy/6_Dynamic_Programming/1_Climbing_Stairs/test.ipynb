{
 "cells": [
  {
   "cell_type": "code",
   "execution_count": 16,
   "metadata": {},
   "outputs": [
    {
     "name": "stdout",
     "output_type": "stream",
     "text": [
      "1836311903\n"
     ]
    }
   ],
   "source": [
    "# 1 -> 2 -> 3 -> 5 -> 8 -> 13 형태로 피보나치 수열과 같이 증가한다.\n",
    "def fibonacci_sequence(n):\n",
    "\tprev = 0\n",
    "\tout = 1\n",
    "\tfor i in range(0, n) : \n",
    "\t\ttmp = out\n",
    "\t\tout += prev\n",
    "\t\tprev = tmp\n",
    "\t\n",
    "\treturn out\n",
    "\n",
    "\n",
    "output = fibonacci_sequence(45)\n",
    "print(output)"
   ]
  }
 ],
 "metadata": {
  "kernelspec": {
   "display_name": "Python 3",
   "language": "python",
   "name": "python3"
  },
  "language_info": {
   "codemirror_mode": {
    "name": "ipython",
    "version": 3
   },
   "file_extension": ".py",
   "mimetype": "text/x-python",
   "name": "python",
   "nbconvert_exporter": "python",
   "pygments_lexer": "ipython3",
   "version": "3.12.6"
  }
 },
 "nbformat": 4,
 "nbformat_minor": 2
}
