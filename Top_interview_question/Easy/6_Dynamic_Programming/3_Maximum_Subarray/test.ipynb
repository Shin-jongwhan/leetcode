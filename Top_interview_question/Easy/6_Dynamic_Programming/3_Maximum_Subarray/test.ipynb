{
 "cells": [
  {
   "cell_type": "code",
   "execution_count": 33,
   "metadata": {},
   "outputs": [
    {
     "name": "stdout",
     "output_type": "stream",
     "text": [
      "50\n"
     ]
    }
   ],
   "source": [
    "nums = [-2,1,-3,4,-1,2,1,-5,4]\n",
    "nums = [2]\n",
    "nums = [-1]\n",
    "nums = [-1, -2, -3]\n",
    "nums = [-1, 2]\n",
    "nums = [8,-19,5,-4,20,-5,30,-6,10]\n",
    "\n",
    "def test() : \n",
    "\tmax_sum = float('-inf')\n",
    "\tcurrent_sum = 0\n",
    "\t\n",
    "\tfor num in nums:\n",
    "\t\tcurrent_sum += num\n",
    "\t\tif current_sum > max_sum:\n",
    "\t\t\tmax_sum = current_sum\n",
    "\t\tif current_sum < 0:\n",
    "\t\t\tcurrent_sum = 0\n",
    "\t\n",
    "\treturn max_sum\n",
    "\n",
    "\n",
    "output = test()\n",
    "print(output)\n"
   ]
  }
 ],
 "metadata": {
  "kernelspec": {
   "display_name": "Python 3",
   "language": "python",
   "name": "python3"
  },
  "language_info": {
   "codemirror_mode": {
    "name": "ipython",
    "version": 3
   },
   "file_extension": ".py",
   "mimetype": "text/x-python",
   "name": "python",
   "nbconvert_exporter": "python",
   "pygments_lexer": "ipython3",
   "version": "3.12.6"
  }
 },
 "nbformat": 4,
 "nbformat_minor": 2
}
