{
 "cells": [
  {
   "cell_type": "code",
   "execution_count": 136,
   "metadata": {},
   "outputs": [
    {
     "name": "stdout",
     "output_type": "stream",
     "text": [
      "2147483647\n"
     ]
    }
   ],
   "source": [
    "# 작성하다보니 코드가 길어졌다...\n",
    "# 1. 왼쪽 시작의 공백을 없애야 함(replace 쓰면 안 됨)\n",
    "# 2. 시작 인식(i == 0)\n",
    "## 1) -, +로 시작하는지 + 숫자로 시작하는지 인식해야 함 + 숫자가 시작했다는 것을 알림(True). 0이면 무시함.\n",
    "## 2) 문자로 시작해버리면 그냥 return 0\n",
    "# 3. i > 0\n",
    "## 1) 만약 숫자라면, 계속 0으로 등장하는지 체크. 그러면 일단 continue\n",
    "## 2) 문자면 return 0\n",
    "## 3) 0이 아닌 숫자 등장 시 추가 + 숫자가 시작했다는 것을 알림(True)\n",
    "## 4) 숫자 시작 알림이 True이면 0을 포함한 모든 숫자를 추가\n",
    "## 5) 숫자가 아닌 문자를 만나면 break\n",
    "# 4. 반올림\n",
    "## 1) 숫자가 -2^31보다 작으면 return -2^31\n",
    "## 2) 숫자가 2^31 - 1보다 크면 return 2^31 - 1\n",
    "## 3) 그게 아니면 return 숫자\n",
    "\n",
    "s = \"042\"\n",
    "s = \" -042\"\n",
    "s = \"1337c0d3\"\n",
    "s = \"0-1\"\n",
    "s = \"-91283472332\"\n",
    "s = \".1\"\n",
    "s = \"+1\"\n",
    "s = \"+-12\"\n",
    "s = \"21474836460\"\n",
    "s = \"   +0 123\"\n",
    "s = \"20000000000000000000\"\n",
    "\n",
    "def test(s) : \n",
    "\ts = s.lstrip()\n",
    "\ts2 = \"\"\n",
    "\t\n",
    "\tblZero_ignore = False\n",
    "\tfor i in range(0, len(s)) : \n",
    "\t\t#print(i, s[i])\n",
    "\t\tif i == 0 : \n",
    "\t\t\tif s[i] == \"-\" or s[i] == \"+\" or s[i].isnumeric() == True and s[i] != '0' : \n",
    "\t\t\t\ts2 += s[i]\n",
    "\t\t\t\tblZero_ignore = True\n",
    "\t\t\telif s[i].isnumeric() == False : \n",
    "\t\t\t\treturn 0\n",
    "\t\telse : \n",
    "\t\t\tif s[i].isnumeric() == True : \n",
    "\t\t\t\tif blZero_ignore == False and s[i] == '0' : \n",
    "\t\t\t\t\tcontinue\n",
    "\t\t\t\telse : \n",
    "\t\t\t\t\ts2 += s[i]\n",
    "\t\t\t\t\tblZero_ignore = True\n",
    "\t\t\telif s[i].isnumeric() == False : \n",
    "\t\t\t\tbreak\n",
    "\t\n",
    "\tif len(s2) == 0: \n",
    "\t\treturn 0\n",
    "\telif s2 == '-' or s2 == '+': \n",
    "\t\treturn 0\n",
    "\n",
    "\ts2 = int(s2)\n",
    "\tif s2 < -(2 ** 31) : \n",
    "\t\treturn -2 ** 31\n",
    "\telif s2 > 2 ** 31 - 1 : \n",
    "\t\treturn 2 ** 31 - 1\n",
    "\telse : \n",
    "\t\treturn s2\n",
    "\n",
    "\n",
    "output = test(s)\n",
    "print(output)"
   ]
  },
  {
   "cell_type": "code",
   "execution_count": 48,
   "metadata": {},
   "outputs": [
    {
     "name": "stdout",
     "output_type": "stream",
     "text": [
      "2147483647\n"
     ]
    }
   ],
   "source": [
    "print(2 ** 31 - 1)"
   ]
  }
 ],
 "metadata": {
  "kernelspec": {
   "display_name": "Python 3",
   "language": "python",
   "name": "python3"
  },
  "language_info": {
   "codemirror_mode": {
    "name": "ipython",
    "version": 3
   },
   "file_extension": ".py",
   "mimetype": "text/x-python",
   "name": "python",
   "nbconvert_exporter": "python",
   "pygments_lexer": "ipython3",
   "version": "3.12.6"
  }
 },
 "nbformat": 4,
 "nbformat_minor": 2
}
