{
 "cells": [
  {
   "cell_type": "code",
   "execution_count": 7,
   "metadata": {},
   "outputs": [
    {
     "name": "stdout",
     "output_type": "stream",
     "text": [
      "[0]\n"
     ]
    }
   ],
   "source": [
    "nums = [0,1,0,3,12]\n",
    "nums = [0]\n",
    "\n",
    "for i in range(len(nums) - 1, -1, -1) : \n",
    "\tif nums[i] == 0 : \n",
    "\t\tif i != 0 : \n",
    "\t\t\tprint(nums[:i], nums[i+1:])\n",
    "\t\t\tnums = nums[:i] + nums[i+1:] + [0]\n",
    "\t\telse : \n",
    "\t\t\tnums = nums[1:] + [0]\n",
    "\n",
    "print(nums)"
   ]
  }
 ],
 "metadata": {
  "kernelspec": {
   "display_name": "Python 3",
   "language": "python",
   "name": "python3"
  },
  "language_info": {
   "codemirror_mode": {
    "name": "ipython",
    "version": 3
   },
   "file_extension": ".py",
   "mimetype": "text/x-python",
   "name": "python",
   "nbconvert_exporter": "python",
   "pygments_lexer": "ipython3",
   "version": "3.12.6"
  }
 },
 "nbformat": 4,
 "nbformat_minor": 2
}
