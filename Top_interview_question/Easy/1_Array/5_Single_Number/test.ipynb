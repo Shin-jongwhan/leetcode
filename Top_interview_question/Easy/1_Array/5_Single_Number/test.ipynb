{
 "cells": [
  {
   "cell_type": "code",
   "execution_count": 18,
   "metadata": {},
   "outputs": [
    {
     "name": "stdout",
     "output_type": "stream",
     "text": [
      "4\n"
     ]
    }
   ],
   "source": [
    "#nums = [2,2,1]\n",
    "nums = [4,1,2,1,2]\n",
    "\n",
    "def test(nums) : \n",
    "\tnums = sorted(nums)\n",
    "\tn = nums[0]\n",
    "\tblTwice = False\n",
    "\toutput = None\n",
    "\tif len(nums) > 1 and nums[-1] != nums[-2] : \n",
    "\t\treturn nums[-1]\n",
    "\telif len(nums) == 1 : \n",
    "\t\treturn nums[0]\n",
    "\tfor i in range(1, len(nums)) : \n",
    "\t\tprint(nums[i], n, blTwice)\n",
    "\t\tif nums[i] == n : \n",
    "\t\t\tblTwice = True\n",
    "\t\telse : \n",
    "\t\t\tif blTwice == False : \n",
    "\t\t\t\toutput = nums[i - 1]\n",
    "\t\t\tblTwice = False\n",
    "\t\t\tn = nums[i]\n",
    "\n",
    "\treturn output\n",
    "\n",
    "output = test(nums)\n",
    "print(output)"
   ]
  }
 ],
 "metadata": {
  "kernelspec": {
   "display_name": "Python 3",
   "language": "python",
   "name": "python3"
  },
  "language_info": {
   "codemirror_mode": {
    "name": "ipython",
    "version": 3
   },
   "file_extension": ".py",
   "mimetype": "text/x-python",
   "name": "python",
   "nbconvert_exporter": "python",
   "pygments_lexer": "ipython3",
   "version": "3.12.6"
  }
 },
 "nbformat": 4,
 "nbformat_minor": 2
}
