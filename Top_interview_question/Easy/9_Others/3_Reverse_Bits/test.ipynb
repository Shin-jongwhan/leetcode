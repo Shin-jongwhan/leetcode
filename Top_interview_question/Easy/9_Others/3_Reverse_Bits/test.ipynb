{
 "cells": [
  {
   "cell_type": "markdown",
   "metadata": {},
   "source": [
    "Reverse bits of a given 32 bits unsigned integer.\n",
    "\n",
    "Note:\n",
    "\n",
    "Note that in some languages, such as Java, there is no unsigned integer type. In this case, both input and output will be given as a signed integer type. They should not affect your implementation, as the integer's internal binary representation is the same, whether it is signed or unsigned.\n",
    "In Java, the compiler represents the signed integers using 2's complement notation. Therefore, in Example 2 above, the input represents the signed integer -3 and the output represents the signed integer -1073741825.\n",
    " \n",
    "\n",
    "Example 1:\n",
    "\n",
    "Input: n = 00000010100101000001111010011100\n",
    "Output:    964176192 (00111001011110000010100101000000)\n",
    "Explanation: The input binary string 00000010100101000001111010011100 represents the unsigned integer 43261596, so return 964176192 which its binary representation is 00111001011110000010100101000000.\n",
    "Example 2:\n",
    "\n",
    "Input: n = 11111111111111111111111111111101\n",
    "Output:   3221225471 (10111111111111111111111111111111)\n",
    "Explanation: The input binary string 11111111111111111111111111111101 represents the unsigned integer 4294967293, so return 3221225471 which its binary representation is 10111111111111111111111111111111.\n",
    " \n",
    "\n",
    "Constraints:\n",
    "\n",
    "The input must be a binary string of length 32\n",
    " \n",
    "\n",
    "Follow up: If this function is called many times, how would you optimize it?"
   ]
  },
  {
   "cell_type": "code",
   "execution_count": 42,
   "metadata": {},
   "outputs": [
    {
     "name": "stdout",
     "output_type": "stream",
     "text": [
      "43261596\n",
      "964176192\n"
     ]
    }
   ],
   "source": [
    "s = \"00000010100101000001111010011100\"\n",
    "n = int(s, 2)\n",
    "print(n)\n",
    "nb = int(\"{0:0>32}\".format(bin(n)[2:])[::-1], 2)\n",
    "print(nb)\n",
    "\n",
    "#print(int(n[::-1], 2))\n"
   ]
  }
 ],
 "metadata": {
  "kernelspec": {
   "display_name": "Python 3",
   "language": "python",
   "name": "python3"
  },
  "language_info": {
   "codemirror_mode": {
    "name": "ipython",
    "version": 3
   },
   "file_extension": ".py",
   "mimetype": "text/x-python",
   "name": "python",
   "nbconvert_exporter": "python",
   "pygments_lexer": "ipython3",
   "version": "3.12.6"
  }
 },
 "nbformat": 4,
 "nbformat_minor": 2
}
