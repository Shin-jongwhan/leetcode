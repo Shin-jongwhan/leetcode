{
 "cells": [
  {
   "cell_type": "markdown",
   "metadata": {},
   "source": [
    "Given a string s containing just the characters '(', ')', '{', '}', '[' and ']', determine if the input string is valid.\n",
    "\n",
    "An input string is valid if:\n",
    "\n",
    "Open brackets must be closed by the same type of brackets.\n",
    "Open brackets must be closed in the correct order.\n",
    "Every close bracket has a corresponding open bracket of the same type.\n",
    " \n",
    "\n",
    "Example 1:\n",
    "\n",
    "Input: s = \"()\"\n",
    "\n",
    "Output: true\n",
    "\n",
    "Example 2:\n",
    "\n",
    "Input: s = \"()[]{}\"\n",
    "\n",
    "Output: true\n",
    "\n",
    "Example 3:\n",
    "\n",
    "Input: s = \"(]\"\n",
    "\n",
    "Output: false\n",
    "\n",
    "Example 4:\n",
    "\n",
    "Input: s = \"([])\"\n",
    "\n",
    "Output: true\n",
    "\n",
    " \n",
    "\n",
    "Constraints:\n",
    "\n",
    "1 <= s.length <= 104\n",
    "s consists of parentheses only '()[]{}'."
   ]
  },
  {
   "cell_type": "code",
   "execution_count": null,
   "metadata": {},
   "outputs": [
    {
     "name": "stdout",
     "output_type": "stream",
     "text": [
      "{']': [11], '[': [0]}\n",
      "{']': [11], '[': [0], ')': [5], '(': [1]}\n",
      "{']': [11], '[': [0], ')': [5], '(': [1], '}': [7], '{': [2]}\n",
      "bbb { }\n",
      "False\n"
     ]
    }
   ],
   "source": [
    "# 이렇게 시도해봤지만 안 됐음\n",
    "\n",
    "# 열고 닫기의 짝을 찾는 문제\n",
    "s = \"()\"\n",
    "s = \"()[]{}\"\n",
    "s = \"(]\"\n",
    "s = \"([])\"\n",
    "#s = \"([]){]\"\n",
    "s = \"([)]{}\"\n",
    "#s = \"()[]{}\"\n",
    "s = \"){\"\t\t\t# False\n",
    "#s = \"(){}}{\"\t\t# False\n",
    "#s = \"[[[]\"\t\t\t# False\n",
    "#s = \"([}}])\"\t\t# False\n",
    "#s = \"(([]){})\"\t\t# True\n",
    "s = \"[({(())}[()])]\"\n",
    "\n",
    "\n",
    "def test() : \n",
    "\tdicBracket_idx = {}\n",
    "\n",
    "\tdicBracket = {\n",
    "\t\t'(' : ')', \n",
    "\t\t'{' : '}', \n",
    "\t\t'[' : ']', \n",
    "\t}\n",
    "\n",
    "\tdicBracket_inspect = {\n",
    "\t\t'(' : ['[', '{'], \n",
    "\t\t'{' : ['(', '['], \n",
    "\t\t'[' : ['(', '{'], \n",
    "\t}\n",
    "\tif len(s) == 1 : \n",
    "\t\treturn False\n",
    "\telif len(s) == 2 : \n",
    "\t\tif s[0] not in dicBracket.keys() : \n",
    "\t\t\treturn False\n",
    "\t\telif s[1] == dicBracket[s[0]] : \n",
    "\t\t\treturn True\n",
    "\t\telse : \n",
    "\t\t\treturn False\n",
    "\telif len(s) % 2 == 1 : \n",
    "\t\treturn False\n",
    "\n",
    "\tnUpdate = 0\n",
    "\tfor i in range(0, len(s)) :\n",
    "\t\tif s[i] in dicBracket.keys() : \n",
    "\t\t\tnPrev_pair_idx = 2 ** 31 - 1\n",
    "\t\t\tnUpdate += 1\n",
    "\t\t\tif s[i] in dicBracket_idx.keys() : \n",
    "\t\t\t\tnPrev_pair_idx = dicBracket_idx[dicBracket[s[i]]][-1]\n",
    "\t\t\t\tdicBracket_idx[ dicBracket[s[i]] ].append( s[dicBracket_idx[dicBracket[s[i]]] + 1:].find(dicBracket[s[i]]) + dicBracket_idx[dicBracket[s[i]]] + 1 )\n",
    "\t\t\t\tdicBracket_idx[s[i]].append(i)\n",
    "\t\t\t\tprint(dicBracket_idx)\n",
    "\t\t\telse : \n",
    "\t\t\t\tdicBracket_idx[ dicBracket[s[i]] ] = [ s.find(dicBracket[s[i]]) ]\n",
    "\t\t\t\tdicBracket_idx[s[i]] = [i]\n",
    "\t\t\t\tprint(dicBracket_idx)\n",
    "\n",
    "\t\t\tif dicBracket_idx[s[i]][-1] >= dicBracket_idx[dicBracket[s[i]]][-1] or nPrev_pair_idx == dicBracket_idx[dicBracket[s[i]]][-1] : \n",
    "\t\t\t\tprint(\"aaa\")\n",
    "\t\t\t\treturn False\n",
    "\t\t\t\n",
    "\t\t\tlsBracket_inspect = dicBracket_inspect[s[i]]\n",
    "\t\t\tfor j in lsBracket_inspect : \n",
    "\t\t\t\tif j not in dicBracket_idx.keys() : \n",
    "\t\t\t\t\tcontinue\n",
    "\t\t\t\telif (dicBracket_idx[s[i]][-1] > dicBracket_idx[j][-1] and dicBracket_idx[dicBracket[s[i]]][-1] > dicBracket_idx[dicBracket[j]][-1] and dicBracket_idx[s[i]][-1] < dicBracket_idx[dicBracket[j]][-1]) or (dicBracket_idx[s[i]][-1] < dicBracket_idx[j][-1] and dicBracket_idx[dicBracket[s[i]]][-1] > dicBracket_idx[j][-1] and dicBracket_idx[dicBracket[s[i]]] < dicBracket_idx[dicBracket[j]]) : \n",
    "\t\t\t\t\tprint(\"bbb\", s[i], dicBracket[s[i]])\n",
    "\t\t\t\t\treturn False\n",
    "\t\t\t\t\n",
    "\tif nUpdate != len(s) // 2 : \n",
    "\t\treturn False\n",
    "\t\t\n",
    "\tfor i in dicBracket_idx.keys() : \n",
    "\t\tif dicBracket_idx[i] == -1 : \n",
    "\t\t\treturn False\n",
    "\t\n",
    "\treturn True\n",
    "\n",
    "\n",
    "o = test()\n",
    "print(o)"
   ]
  },
  {
   "cell_type": "code",
   "execution_count": null,
   "metadata": {},
   "outputs": [
    {
     "name": "stdout",
     "output_type": "stream",
     "text": [
      "True\n",
      "False\n",
      "False\n"
     ]
    }
   ],
   "source": [
    "# 정답 코드\n",
    "\n",
    "def is_valid_brackets(s):\n",
    "    stack = []\n",
    "    bracket_map = {')': '(', ']': '[', '}': '{'}\n",
    "    opening_brackets = set(bracket_map.values())  # 여는 괄호 집합 생성\n",
    "    closing_brackets = bracket_map.keys()         # 닫는 괄호 집합\n",
    "\n",
    "    for char in s:\n",
    "        if char in opening_brackets:\n",
    "            stack.append(char)  # 여는 괄호일 경우 스택에 추가\n",
    "        elif char in closing_brackets:\n",
    "            if not stack or stack.pop() != bracket_map[char]:  # 짝이 맞지 않으면 False 반환\n",
    "                return False\n",
    "    return not stack  # 스택이 비어 있으면 True, 그렇지 않으면 False\n",
    "\n",
    "# 사용 예제\n",
    "print(is_valid_brackets(\"({[]})\"))  # True\n",
    "print(is_valid_brackets(\"({[})\"))   # False\n",
    "print(is_valid_brackets(\"([)]{}\"))\t# False"
   ]
  },
  {
   "cell_type": "code",
   "execution_count": null,
   "metadata": {},
   "outputs": [
    {
     "name": "stdout",
     "output_type": "stream",
     "text": [
      "-1\n"
     ]
    },
    {
     "ename": "TypeError",
     "evalue": "'str' object doesn't support item deletion",
     "output_type": "error",
     "traceback": [
      "\u001b[1;31m---------------------------------------------------------------------------\u001b[0m",
      "\u001b[1;31mTypeError\u001b[0m                                 Traceback (most recent call last)",
      "Cell \u001b[1;32mIn[91], line 7\u001b[0m\n\u001b[0;32m      4\u001b[0m \u001b[38;5;28mlen\u001b[39m(s) \u001b[38;5;241m%\u001b[39m \u001b[38;5;241m2\u001b[39m\n\u001b[0;32m      6\u001b[0m \u001b[38;5;28;01mfor\u001b[39;00m i \u001b[38;5;129;01min\u001b[39;00m \u001b[38;5;28mrange\u001b[39m(\u001b[38;5;28mlen\u001b[39m(s) \u001b[38;5;241m-\u001b[39m \u001b[38;5;241m1\u001b[39m, \u001b[38;5;241m-\u001b[39m\u001b[38;5;241m1\u001b[39m, \u001b[38;5;241m-\u001b[39m\u001b[38;5;241m1\u001b[39m) : \n\u001b[1;32m----> 7\u001b[0m \t\u001b[38;5;28;01mdel\u001b[39;00m \u001b[43ms\u001b[49m\u001b[43m[\u001b[49m\u001b[43mi\u001b[49m\u001b[43m]\u001b[49m\n",
      "\u001b[1;31mTypeError\u001b[0m: 'str' object doesn't support item deletion"
     ]
    }
   ],
   "source": [
    "s = \"123123567\"\n",
    "print(s.find(\"a\"))\n",
    "\n",
    "len(s) % 2"
   ]
  }
 ],
 "metadata": {
  "kernelspec": {
   "display_name": "Python 3",
   "language": "python",
   "name": "python3"
  },
  "language_info": {
   "codemirror_mode": {
    "name": "ipython",
    "version": 3
   },
   "file_extension": ".py",
   "mimetype": "text/x-python",
   "name": "python",
   "nbconvert_exporter": "python",
   "pygments_lexer": "ipython3",
   "version": "3.12.6"
  }
 },
 "nbformat": 4,
 "nbformat_minor": 2
}
