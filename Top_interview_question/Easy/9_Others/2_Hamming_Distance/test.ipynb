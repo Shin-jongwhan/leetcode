{
 "cells": [
  {
   "cell_type": "markdown",
   "metadata": {},
   "source": [
    "The Hamming distance between two integers is the number of positions at which the corresponding bits are different.\n",
    "\n",
    "Given two integers x and y, return the Hamming distance between them.\n",
    "\n",
    " \n",
    "\n",
    "Example 1:\n",
    "\n",
    "Input: x = 1, y = 4\n",
    "Output: 2\n",
    "Explanation:\n",
    "1   (0 0 0 1)\n",
    "4   (0 1 0 0)\n",
    "       ↑   ↑\n",
    "The above arrows point to positions where the corresponding bits are different.\n",
    "Example 2:\n",
    "\n",
    "Input: x = 3, y = 1\n",
    "Output: 1\n",
    " \n",
    "\n",
    "Constraints:\n",
    "\n",
    "0 <= x, y <= 231 - 1\n",
    " \n",
    "\n",
    "Note: This question is the same as 2220: Minimum Bit Flips to Convert Number."
   ]
  },
  {
   "cell_type": "code",
   "execution_count": 36,
   "metadata": {},
   "outputs": [
    {
     "name": "stdout",
     "output_type": "stream",
     "text": [
      "<class 'str'> <class 'str'> 1 3\n",
      "001 100\n",
      "0 1\n",
      "0 0\n",
      "1 0\n",
      "hamming distance : 2\n"
     ]
    }
   ],
   "source": [
    "# hamming distance 구하는 문제이다.\n",
    "def nand(a, b):\n",
    "    return int(not (a and b))\n",
    "\n",
    "x = 1\n",
    "y = 4\n",
    "bx = bin(x)[2:]\n",
    "by = bin(y)[2:]\n",
    "print(type(bx), type(by), len(bx), len(by))\n",
    "\n",
    "if len(bx) > len(by) : \n",
    "\tby = '{0:0{1}d}'.format(int(by), len(bx))\n",
    "else : \n",
    "\tbx = '{0:0{1}d}'.format(int(bx), len(by))\n",
    "\n",
    "print(bx, by)\n",
    "\n",
    "hm = 0\n",
    "for i in range(0, len(bx)) : \n",
    "\tprint(bx[i], by[i])\n",
    "\tif bx[i] != by[i] :\n",
    "\t\thm += 1\n",
    "\n",
    "print(\"hamming distance :\", hm)"
   ]
  },
  {
   "cell_type": "code",
   "execution_count": 19,
   "metadata": {},
   "outputs": [
    {
     "name": "stdout",
     "output_type": "stream",
     "text": [
      "00003\n"
     ]
    }
   ],
   "source": [
    "nand(0, 0)\n",
    "\n",
    "print(\"{0:0{1}d}\".format(3, 5))"
   ]
  }
 ],
 "metadata": {
  "kernelspec": {
   "display_name": "Python 3",
   "language": "python",
   "name": "python3"
  },
  "language_info": {
   "codemirror_mode": {
    "name": "ipython",
    "version": 3
   },
   "file_extension": ".py",
   "mimetype": "text/x-python",
   "name": "python",
   "nbconvert_exporter": "python",
   "pygments_lexer": "ipython3",
   "version": "3.12.6"
  }
 },
 "nbformat": 4,
 "nbformat_minor": 2
}
