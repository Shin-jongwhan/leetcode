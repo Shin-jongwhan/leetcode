{
 "cells": [
  {
   "cell_type": "code",
   "execution_count": 68,
   "metadata": {},
   "outputs": [
    {
     "name": "stdout",
     "output_type": "stream",
     "text": [
      "longest_str cab\n",
      "output \n"
     ]
    }
   ],
   "source": [
    "strs = [\"flower\",\"flow\",\"flight\"]\n",
    "strs = [\"dog\",\"racecar\",\"car\"]\n",
    "strs = [\"ab\", \"a\"]\n",
    "strs = [\"abab\",\"aba\",\"\"]\n",
    "strs = [\"b\",\"cb\",\"cab\"]\n",
    "\n",
    "def test(strs) : \n",
    "\tif len(strs) == 1 : \n",
    "\t\treturn strs[0]\n",
    "\tlongest_idx = strs.index(max(strs, key=len))\n",
    "\tlongest_str = strs[longest_idx]\n",
    "\tdel strs[longest_idx]\n",
    "\tprint(\"longest_str\", longest_str)\n",
    "\n",
    "\toutput = \"\"\n",
    "\tfor i in range(0, len(longest_str)) : \n",
    "\t\tblCommon = False\n",
    "\t\tfor j in range(0, len(strs)) : \n",
    "\t\t\tif i >= len(strs[j]) : \n",
    "\t\t\t\tblCommon = False\n",
    "\t\t\t\tbreak\n",
    "\t\t\tif longest_str[i] == strs[j][i] : \n",
    "\t\t\t\tblCommon = True\n",
    "\t\t\telse : \n",
    "\t\t\t\tblCommon = False\n",
    "\t\t\t\tbreak\n",
    "\t\tif blCommon == True : \n",
    "\t\t\toutput += longest_str[i]\n",
    "\t\telse : \n",
    "\t\t\tbreak\n",
    "\t\n",
    "\treturn output\n",
    "\n",
    "\n",
    "output = test(strs)\n",
    "print(\"output\", output)"
   ]
  },
  {
   "cell_type": "code",
   "execution_count": 73,
   "metadata": {},
   "outputs": [
    {
     "name": "stdout",
     "output_type": "stream",
     "text": [
      "a\n"
     ]
    }
   ],
   "source": [
    "import os\n",
    "strs = [\"flower\",\"flow\",\"flight\"]\n",
    "strs = [\"dog\",\"racecar\",\"car\"]\n",
    "strs = [\"ab\", \"a\"]\n",
    "#strs = [\"abab\",\"aba\",\"\"]\n",
    "#strs = [\"b\",\"cb\",\"cab\"]\n",
    "\n",
    "print(os.path.commonprefix(strs))"
   ]
  }
 ],
 "metadata": {
  "kernelspec": {
   "display_name": "Python 3",
   "language": "python",
   "name": "python3"
  },
  "language_info": {
   "codemirror_mode": {
    "name": "ipython",
    "version": 3
   },
   "file_extension": ".py",
   "mimetype": "text/x-python",
   "name": "python",
   "nbconvert_exporter": "python",
   "pygments_lexer": "ipython3",
   "version": "3.12.6"
  }
 },
 "nbformat": 4,
 "nbformat_minor": 2
}
