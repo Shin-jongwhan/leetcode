{
 "cells": [
  {
   "cell_type": "code",
   "execution_count": 10,
   "metadata": {},
   "outputs": [
    {
     "name": "stdout",
     "output_type": "stream",
     "text": [
      "-321\n",
      "-31\n"
     ]
    }
   ],
   "source": [
    "x = -123\n",
    "if x >= 0 : \n",
    "\toutput = int(str(x)[::-1])\n",
    "else : \n",
    "\toutput = int(\"-\" + str(x)[:0:-1])\n",
    "\n",
    "if output < -2**31 or output > 2**31 - 1 : \n",
    "\tprint(0)\n",
    "else : \n",
    "\tprint(output)"
   ]
  }
 ],
 "metadata": {
  "kernelspec": {
   "display_name": "Python 3",
   "language": "python",
   "name": "python3"
  },
  "language_info": {
   "codemirror_mode": {
    "name": "ipython",
    "version": 3
   },
   "file_extension": ".py",
   "mimetype": "text/x-python",
   "name": "python",
   "nbconvert_exporter": "python",
   "pygments_lexer": "ipython3",
   "version": "3.12.6"
  }
 },
 "nbformat": 4,
 "nbformat_minor": 2
}
