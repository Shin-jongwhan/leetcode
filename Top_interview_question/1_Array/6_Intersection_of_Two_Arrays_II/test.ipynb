{
 "cells": [
  {
   "cell_type": "code",
   "execution_count": 13,
   "metadata": {},
   "outputs": [
    {
     "name": "stdout",
     "output_type": "stream",
     "text": [
      "[2, 2, 3]\n"
     ]
    }
   ],
   "source": [
    "from collections import Counter\n",
    "\n",
    "# 1. 각 숫자가 몇 번 등장하는지 센다. 딕셔너리 형태로 key : 중복 횟수\n",
    "# 2. 교집합을 구한다.\n",
    "# 3. 교집합을 구한 다음 딕셔너리에서 중복 횟수를 찾아서 리턴한다.\n",
    "\n",
    "nums1 = [1,2,2,1]\n",
    "nums2 = [2,2]\n",
    "\n",
    "nums1 = [1, 2, 2, 3, 4]\n",
    "nums2 = [2, 2, 3, 5]\n",
    "\n",
    "counter1 = Counter(nums1)\n",
    "counter2 = Counter(nums2)\n",
    "\n",
    "print(list((counter1 & counter2).elements()))"
   ]
  },
  {
   "cell_type": "code",
   "execution_count": 17,
   "metadata": {},
   "outputs": [
    {
     "name": "stdout",
     "output_type": "stream",
     "text": [
      "Counter({1: 5, 2: 4})\n",
      "[1, 1, 1, 1, 1, 2, 2, 2, 2]\n"
     ]
    }
   ],
   "source": [
    "c = Counter([1,1,1,1,1,2,2,2,2])\n",
    "print(c)\n",
    "print(list(c.elements()))\t\t# .elements()는 등장한 개수만큼 해당 값을 출력해준다."
   ]
  }
 ],
 "metadata": {
  "kernelspec": {
   "display_name": "Python 3",
   "language": "python",
   "name": "python3"
  },
  "language_info": {
   "codemirror_mode": {
    "name": "ipython",
    "version": 3
   },
   "file_extension": ".py",
   "mimetype": "text/x-python",
   "name": "python",
   "nbconvert_exporter": "python",
   "pygments_lexer": "ipython3",
   "version": "3.12.6"
  }
 },
 "nbformat": 4,
 "nbformat_minor": 2
}
