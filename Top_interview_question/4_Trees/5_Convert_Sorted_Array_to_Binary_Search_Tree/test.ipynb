{
 "cells": [
  {
   "cell_type": "code",
   "execution_count": 12,
   "metadata": {},
   "outputs": [
    {
     "name": "stdout",
     "output_type": "stream",
     "text": [
      "[[1], [2, 3], [4, 5]]\n"
     ]
    }
   ],
   "source": [
    "from collections import deque\n",
    "\n",
    "class TreeNode(object):\n",
    "\tdef __init__(self, val=0, left=None, right=None):\n",
    "\t\tself.val = val\n",
    "\t\tself.left = left\n",
    "\t\tself.right = right\n",
    "\n",
    "\n",
    "def generate_tree_node(ls):\n",
    "\tif not ls:\n",
    "\t\treturn None  # 리스트가 비어 있으면 빈 트리 반환\n",
    "\n",
    "\t# 루트 노드 생성\n",
    "\troot = TreeNode(ls[0])\n",
    "\tqueue = [root]  # BFS로 노드를 할당하기 위한 큐\n",
    "\ti = 1  # 리스트의 다음 값을 가리킬 인덱스\n",
    "\n",
    "\twhile i < len(ls):\n",
    "\t\tcurrent_node = queue.pop(0)  # 큐에서 노드를 가져옴\n",
    "\n",
    "\t\t# 왼쪽 자식 노드 할당\n",
    "\t\tif i < len(ls) and ls[i] is not None:\n",
    "\t\t\tcurrent_node.left = TreeNode(ls[i])\n",
    "\t\t\tqueue.append(current_node.left)\n",
    "\t\ti += 1\n",
    "\n",
    "\t\t# 오른쪽 자식 노드 할당\n",
    "\t\tif i < len(ls) and ls[i] is not None:\n",
    "\t\t\tcurrent_node.right = TreeNode(ls[i])\n",
    "\t\t\tqueue.append(current_node.right)\n",
    "\t\ti += 1\n",
    "\n",
    "\treturn root\n",
    "\n",
    "\n",
    "def print_tree(root):\n",
    "\tif not root:\n",
    "\t\tprint(\"Tree is empty.\")\n",
    "\t\treturn\n",
    "\n",
    "\t# BFS를 이용한 레벨 순서대로 출력\n",
    "\tqueue = deque([root])\n",
    "\twhile queue:\n",
    "\t\tlevel_size = len(queue)\n",
    "\t\tlevel_nodes = []\n",
    "\t\tfor _ in range(level_size):\n",
    "\t\t\tnode = queue.popleft()\n",
    "\t\t\tif node:\n",
    "\t\t\t\tlevel_nodes.append(str(node.val))\n",
    "\t\t\t\tqueue.append(node.left)\n",
    "\t\t\t\tqueue.append(node.right)\n",
    "\t\t\telse:\n",
    "\t\t\t\tlevel_nodes.append(\"None\")\n",
    "\t\t\n",
    "\t\t# 레벨별로 출력\n",
    "\t\tprint(\" | \".join(level_nodes))\n",
    "\n",
    "\n",
    "def test(root) : \n",
    "\tpass\n",
    "\n",
    "\n",
    "ls = [1,2,2,3,4,4,3]\n",
    "#ls = [1,0]\n",
    "#ls = [1]\n",
    "ls = [1,2,3,None,4,None,5]\n",
    "#ls = []\n",
    "root = generate_tree_node(ls)\n",
    "#print_tree(root)\n",
    "output = test(root)\n",
    "print(output)"
   ]
  }
 ],
 "metadata": {
  "kernelspec": {
   "display_name": "base",
   "language": "python",
   "name": "python3"
  },
  "language_info": {
   "codemirror_mode": {
    "name": "ipython",
    "version": 3
   },
   "file_extension": ".py",
   "mimetype": "text/x-python",
   "name": "python",
   "nbconvert_exporter": "python",
   "pygments_lexer": "ipython3",
   "version": "3.12.4"
  }
 },
 "nbformat": 4,
 "nbformat_minor": 2
}
