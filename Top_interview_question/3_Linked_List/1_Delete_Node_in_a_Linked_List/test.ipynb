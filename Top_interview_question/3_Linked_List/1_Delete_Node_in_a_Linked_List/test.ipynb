{
 "cells": [
  {
   "cell_type": "code",
   "execution_count": 22,
   "metadata": {},
   "outputs": [
    {
     "name": "stdout",
     "output_type": "stream",
     "text": [
      "1 -> 5 -> 9 -> None\n",
      "1 -> None -> 9 -> None\n"
     ]
    }
   ],
   "source": [
    "class ListNode(object):\n",
    "\tdef __init__(self, x):\n",
    "\t\tself.val = x\n",
    "\t\tself.next = None\n",
    "\t\t\n",
    "\n",
    "def create_linked_list(ls) : \n",
    "\tln = ListNode(ls[0])\n",
    "\tnext = ln\t\t# next는 ln과 동일한 첫 번째 노드를 참조함. 완전히 새로운 변수가 아니기 때문에 ln의 업데이트가 가능.\n",
    "\tfor i in range(1, len(ls)) : \n",
    "\t\tnext.next = ListNode(ls[i])\n",
    "\t\tnext = next.next\n",
    "\n",
    "\treturn ln\n",
    "\n",
    "\n",
    "def del_elem_by_val(node, val):\n",
    "\tcurrent = node\t\t# 중요 : 이걸 꼭 해줘야 참조가 되어 원본 전체가 바뀌지 않게 한다.\n",
    "\twhile current:\n",
    "\t\tif val == current.val : \n",
    "\t\t\tcurrent.val = None\n",
    "\t\t\tbreak\n",
    "\t\tcurrent = current.next\n",
    "\n",
    "\n",
    "def print_linked_list(node):\n",
    "    while node:\n",
    "        print(node.val, end=\" -> \")\n",
    "        node = node.next\n",
    "    print(\"None\")\n",
    "\n",
    "\n",
    "ls = [1,5,9]\n",
    "ln = create_linked_list(ls)\n",
    "print_linked_list(ln)\n",
    "del_elem_by_val(ln, 5)\n",
    "print_linked_list(ln)"
   ]
  },
  {
   "cell_type": "code",
   "execution_count": null,
   "metadata": {},
   "outputs": [],
   "source": []
  }
 ],
 "metadata": {
  "kernelspec": {
   "display_name": "Python 3",
   "language": "python",
   "name": "python3"
  },
  "language_info": {
   "codemirror_mode": {
    "name": "ipython",
    "version": 3
   },
   "file_extension": ".py",
   "mimetype": "text/x-python",
   "name": "python",
   "nbconvert_exporter": "python",
   "pygments_lexer": "ipython3",
   "version": "3.12.6"
  }
 },
 "nbformat": 4,
 "nbformat_minor": 2
}
