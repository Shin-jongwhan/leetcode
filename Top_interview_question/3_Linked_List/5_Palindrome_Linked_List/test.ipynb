{
 "cells": [
  {
   "cell_type": "code",
   "execution_count": 14,
   "metadata": {},
   "outputs": [
    {
     "name": "stdout",
     "output_type": "stream",
     "text": [
      "False\n"
     ]
    }
   ],
   "source": [
    "from collections import deque\n",
    "\n",
    "class ListNode(object):\n",
    "\tdef __init__(self, x=0, next=None):\n",
    "\t\tself.val = x\n",
    "\t\tself.next = None\n",
    "\t\t\n",
    "\n",
    "def create_linked_list(ls) : \n",
    "\tif ls == [] :\n",
    "\t\treturn None\n",
    "\tln = ListNode(ls[0])\n",
    "\tnext = ln\t\t# next는 ln과 동일한 첫 번째 노드를 참조함. 완전히 새로운 변수가 아니기 때문에 ln의 업데이트가 가능.\n",
    "\tfor i in range(1, len(ls)) : \n",
    "\t\tnext.next = ListNode(ls[i])\n",
    "\t\tnext = next.next\n",
    "\n",
    "\treturn ln\n",
    "\n",
    "\n",
    "def print_linked_list(node):\n",
    "    while node:\n",
    "        print(node.val, end=\" -> \")\n",
    "        node = node.next\n",
    "    print(\"None\")\n",
    "\n",
    "\n",
    "def test(ln) : \n",
    "\tif not ln : \n",
    "\t\treturn False\n",
    "\telif ln and not ln.next : \n",
    "\t\treturn True\n",
    "\tdq1 = deque([])\n",
    "\tdq2 = deque([])\n",
    "\tcurrent = ln\n",
    "\n",
    "\twhile current : \n",
    "\t\tdq1.append(current.val)\n",
    "\t\tdq2.appendleft(current.val)\n",
    "\t\tcurrent = current.next\n",
    "\t\n",
    "\tprint(dq1)\n",
    "\tprint(dq2)\n",
    "\treturn dq1 == dq2\n",
    "\n",
    "\n",
    "def test_2(ln) : \n",
    "\tif not ln : \n",
    "\t\treturn False\n",
    "\telif ln and not ln.next : \n",
    "\t\treturn True\n",
    "\tls = [ln.val]\n",
    "\tcurrent = ln.next\n",
    "\n",
    "\twhile current : \n",
    "\t\tls.append(current.val)\n",
    "\t\tcurrent = current.next\n",
    "\t\n",
    "\tfor i in range(0, int(len(ls) / 2)) : \n",
    "\t\tif ls[i] != ls[-i-1] : \n",
    "\t\t\treturn False\n",
    "\t\n",
    "\treturn True\n",
    "\n",
    "\n",
    "ls = [1,2,3,2,1]\n",
    "ls = [1,2,2,1]\n",
    "ls = [1,2,2,1,1]\n",
    "ln = create_linked_list(ls)\n",
    "#output = test(ln)\n",
    "output = test_2(ln)\n",
    "print(output)"
   ]
  },
  {
   "cell_type": "code",
   "execution_count": 6,
   "metadata": {},
   "outputs": [
    {
     "data": {
      "text/plain": [
       "True"
      ]
     },
     "execution_count": 6,
     "metadata": {},
     "output_type": "execute_result"
    }
   ],
   "source": [
    "import numpy as np\n",
    "from collections import deque\n",
    "\n",
    "\n",
    "dq1 = deque([1,2,3,2,1])\n",
    "dq2 = deque([1,2,3,2,1])\n",
    "np.array_equal(dq1, dq2)"
   ]
  },
  {
   "cell_type": "code",
   "execution_count": 1,
   "metadata": {},
   "outputs": [],
   "source": [
    "ls = list(range(0, 100000000))"
   ]
  },
  {
   "cell_type": "code",
   "execution_count": 7,
   "metadata": {},
   "outputs": [],
   "source": [
    "n = 0\n",
    "for i in ls : \n",
    "\tn += i"
   ]
  },
  {
   "cell_type": "code",
   "execution_count": 6,
   "metadata": {},
   "outputs": [],
   "source": [
    "n = 0\n",
    "for i in range(0, len(ls)) : \n",
    "\tn += ls[i]"
   ]
  },
  {
   "cell_type": "code",
   "execution_count": 11,
   "metadata": {},
   "outputs": [
    {
     "name": "stdout",
     "output_type": "stream",
     "text": [
      "1\n",
      "1\n"
     ]
    }
   ],
   "source": [
    "ls = [1,2]\n",
    "print(int(len(ls) / 2))\n",
    "\n",
    "ls = [1,2,3]\n",
    "print(int(len(ls) / 2))"
   ]
  },
  {
   "cell_type": "code",
   "execution_count": null,
   "metadata": {},
   "outputs": [],
   "source": [
    "import time\n",
    "from collections import deque\n",
    "\n",
    "# Define the size for the benchmark\n",
    "n = 100000000\n",
    "\n",
    "# List append benchmark\n",
    "start_time = time.time()\n",
    "lst = []\n",
    "for i in range(n):\n",
    "    lst.append(i)\n",
    "list_append_time = time.time() - start_time\n",
    "\n",
    "# Deque append benchmark\n",
    "start_time = time.time()\n",
    "dq = deque()\n",
    "for i in range(n):\n",
    "    dq.append(i)\n",
    "deque_append_time = time.time() - start_time\n",
    "\n",
    "# Output the benchmark results\n",
    "list_append_time, deque_append_time"
   ]
  }
 ],
 "metadata": {
  "kernelspec": {
   "display_name": "Python 3",
   "language": "python",
   "name": "python3"
  },
  "language_info": {
   "codemirror_mode": {
    "name": "ipython",
    "version": 3
   },
   "file_extension": ".py",
   "mimetype": "text/x-python",
   "name": "python",
   "nbconvert_exporter": "python",
   "pygments_lexer": "ipython3",
   "version": "3.12.6"
  }
 },
 "nbformat": 4,
 "nbformat_minor": 2
}
