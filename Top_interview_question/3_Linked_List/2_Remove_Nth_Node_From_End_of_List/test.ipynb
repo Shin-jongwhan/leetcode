{
 "cells": [
  {
   "cell_type": "code",
   "execution_count": 170,
   "metadata": {},
   "outputs": [
    {
     "name": "stdout",
     "output_type": "stream",
     "text": [
      "1 -> 5 -> 9 -> 2 -> 3 -> 4 -> None\n",
      "length :  6\n",
      "1 -> 5 -> 9 -> 3 -> 4 -> None\n"
     ]
    }
   ],
   "source": [
    "class ListNode(object):\n",
    "\tdef __init__(self, x):\n",
    "\t\tself.val = x\n",
    "\t\tself.next = None\n",
    "\t\t\n",
    "\n",
    "def create_linked_list(ls) : \n",
    "\tln = ListNode(ls[0])\n",
    "\tnext = ln\t\t# next는 ln과 동일한 첫 번째 노드를 참조함. 완전히 새로운 변수가 아니기 때문에 ln의 업데이트가 가능.\n",
    "\tfor i in range(1, len(ls)) : \n",
    "\t\tnext.next = ListNode(ls[i])\n",
    "\t\tnext = next.next\n",
    "\n",
    "\treturn ln\n",
    "\n",
    "\n",
    "def print_linked_list(node):\n",
    "    while node:\n",
    "        print(node.val, end=\" -> \")\n",
    "        node = node.next\n",
    "    print(\"None\")\n",
    "\n",
    "\n",
    "def get_len(node) : \n",
    "\tn = 0\n",
    "\twhile node : \n",
    "\t\tn += 1\n",
    "\t\tnode = node.next\n",
    "\t\n",
    "\treturn n\n",
    "\n",
    "\n",
    "def del_right_idx(node, length, idx_r) : \n",
    "\tidx = length - (idx_r - 1)\n",
    "\tn = 0 \n",
    "\tcurrent = node\n",
    "\tprev = None\n",
    "\n",
    "\t# 중요\n",
    "\t# 여기서 주의해서 알아두어야 할 게 3가지이다.\n",
    "\t#\n",
    "\t# 1. \n",
    "\t# current = current.next는 값을 바꾸지 못 한다. 참조해서 다음으로 이동만 한다.\n",
    "\t#\n",
    "\t# 2. \n",
    "\t# return current.next는 값을 바꿀 수 있다.\n",
    "\t#\n",
    "\t# 3. \n",
    "\t# 1번의 특성으로 인해 값을 바로 다음 꺼로 바꾸려면 다음과 같이 해야하는데, 문제는 마지막에 None이기 때문에 에러가 난다.\n",
    "\t# current.next = current.next.next\n",
    "\t# \n",
    "\t# 따라서 prev를 이용해서 업데이트한다.\n",
    "\t# prev.next = prev.next.next\n",
    "\n",
    "\t# 가장 첫 번째이면 바로 return한다.\n",
    "\tif idx_r == length : \n",
    "\t\treturn current.next\n",
    "\n",
    "\twhile current : \n",
    "\t\tn += 1 \n",
    "\t\tif n == idx :\n",
    "\t\t\tprev.next = prev.next.next\n",
    "\t\t\tbreak\n",
    "\t\tprev = current\n",
    "\t\tcurrent = current.next\n",
    "\n",
    "\treturn node\n",
    "\n",
    "\n",
    "ls = [1,5,9,2,3,4]\n",
    "idx_r = 3\t\t# 1부터 시작해서 -1해줘야 함\n",
    "\n",
    "ln = create_linked_list(ls)\n",
    "print_linked_list(ln)\n",
    "length = get_len(ln)\n",
    "print(\"length : \", length)\n",
    "\n",
    "ln = del_right_idx(ln, length, idx_r)\n",
    "print_linked_list(ln)\n"
   ]
  },
  {
   "cell_type": "code",
   "execution_count": 52,
   "metadata": {},
   "outputs": [
    {
     "name": "stdout",
     "output_type": "stream",
     "text": [
      "aa\n"
     ]
    }
   ],
   "source": [
    "a = None \n",
    "if a == None : \n",
    "\tprint(\"aa\")"
   ]
  }
 ],
 "metadata": {
  "kernelspec": {
   "display_name": "Python 3",
   "language": "python",
   "name": "python3"
  },
  "language_info": {
   "codemirror_mode": {
    "name": "ipython",
    "version": 3
   },
   "file_extension": ".py",
   "mimetype": "text/x-python",
   "name": "python",
   "nbconvert_exporter": "python",
   "pygments_lexer": "ipython3",
   "version": "3.12.6"
  }
 },
 "nbformat": 4,
 "nbformat_minor": 2
}
