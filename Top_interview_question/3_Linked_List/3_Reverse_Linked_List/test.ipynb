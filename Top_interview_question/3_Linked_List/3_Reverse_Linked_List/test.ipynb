{
 "cells": [
  {
   "cell_type": "code",
   "execution_count": 8,
   "metadata": {},
   "outputs": [
    {
     "name": "stdout",
     "output_type": "stream",
     "text": [
      "None\n",
      "[]\n",
      "None\n"
     ]
    }
   ],
   "source": [
    "class ListNode(object):\n",
    "\tdef __init__(self, x=0, next=None):\n",
    "\t\tself.val = x\n",
    "\t\tself.next = None\n",
    "\t\t\n",
    "\n",
    "def create_linked_list(ls) : \n",
    "\tif ls == [] :\n",
    "\t\treturn None\n",
    "\tln = ListNode(ls[0])\n",
    "\tnext = ln\t\t# next는 ln과 동일한 첫 번째 노드를 참조함. 완전히 새로운 변수가 아니기 때문에 ln의 업데이트가 가능.\n",
    "\tfor i in range(1, len(ls)) : \n",
    "\t\tnext.next = ListNode(ls[i])\n",
    "\t\tnext = next.next\n",
    "\n",
    "\treturn ln\n",
    "\n",
    "\n",
    "def print_linked_list(node):\n",
    "    while node:\n",
    "        print(node.val, end=\" -> \")\n",
    "        node = node.next\n",
    "    print(\"None\")\n",
    "\n",
    "\n",
    "def val_to_list(node) : \n",
    "\tls = []\n",
    "\twhile node : \n",
    "\t\tls.append(node.val)\n",
    "\t\tnode = node.next\n",
    "\t\n",
    "\treturn ls\n",
    "\n",
    "\n",
    "# TODO\n",
    "# 1. while문으로 값을 하나씩 꺼내어 리스트로 저장한다.\n",
    "# 2. 리스트를 역순으로 한다.\n",
    "# 3. while문으로 2번의 리스트를 이용하여 linked list를 만든다.\n",
    "\n",
    "#ls = [1,5,9,2,3,4]\n",
    "ls = [1,5,9]\n",
    "#ls = [1]\n",
    "ls = []\n",
    "\n",
    "ln = create_linked_list(ls)\n",
    "print_linked_list(ln)\n",
    "\n",
    "lsReverse = val_to_list(ln)[::-1]\n",
    "print(lsReverse)\n",
    "lnReverse = create_linked_list(lsReverse)\n",
    "print_linked_list(lnReverse)"
   ]
  }
 ],
 "metadata": {
  "kernelspec": {
   "display_name": "Python 3",
   "language": "python",
   "name": "python3"
  },
  "language_info": {
   "codemirror_mode": {
    "name": "ipython",
    "version": 3
   },
   "file_extension": ".py",
   "mimetype": "text/x-python",
   "name": "python",
   "nbconvert_exporter": "python",
   "pygments_lexer": "ipython3",
   "version": "3.12.6"
  }
 },
 "nbformat": 4,
 "nbformat_minor": 2
}
