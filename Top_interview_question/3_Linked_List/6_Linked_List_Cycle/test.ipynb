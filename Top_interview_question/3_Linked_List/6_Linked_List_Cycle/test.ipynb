{
 "cells": [
  {
   "cell_type": "code",
   "execution_count": 14,
   "metadata": {},
   "outputs": [
    {
     "name": "stdout",
     "output_type": "stream",
     "text": [
      "False\n"
     ]
    }
   ],
   "source": [
    "from collections import deque\n",
    "\n",
    "class ListNode(object):\n",
    "\tdef __init__(self, x=0, next=None):\n",
    "\t\tself.val = x\n",
    "\t\tself.next = None\n",
    "\t\t\n",
    "\n",
    "def create_linked_list(ls) : \n",
    "\tif ls == [] :\n",
    "\t\treturn None\n",
    "\tln = ListNode(ls[0])\n",
    "\tnext = ln\t\t# next는 ln과 동일한 첫 번째 노드를 참조함. 완전히 새로운 변수가 아니기 때문에 ln의 업데이트가 가능.\n",
    "\tfor i in range(1, len(ls)) : \n",
    "\t\tnext.next = ListNode(ls[i])\n",
    "\t\tnext = next.next\n",
    "\n",
    "\treturn ln\n",
    "\n",
    "\n",
    "def print_linked_list(node):\n",
    "    while node:\n",
    "        print(node.val, end=\" -> \")\n",
    "        node = node.next\n",
    "    print(\"None\")\n",
    "\n",
    "\n",
    "def test(ln) : \n",
    "\tif not ln : \n",
    "\t\treturn False\n",
    "\t\n",
    "\tstAddress = set([id(ln)])\n",
    "\tcurrent = ln\n",
    "\n",
    "\twhile current : \n",
    "\t\tif id(current.next) not in stAddress : \n",
    "\t\t\tstAddress.add(current.next)\n",
    "\t\telse : \n",
    "\t\t\treturn True\n",
    "\t\tcurrent = current.next\n",
    "\n",
    "\n",
    "ls = [1,2,3,2,1]\n",
    "ls = [1,2,2,1]\n",
    "ls = [1,2,2,1,1]\n",
    "ln = create_linked_list(ls)\n",
    "\n"
   ]
  },
  {
   "cell_type": "code",
   "execution_count": 2,
   "metadata": {},
   "outputs": [
    {
     "name": "stdout",
     "output_type": "stream",
     "text": [
      "140717748849080\n"
     ]
    }
   ],
   "source": [
    "n = 1\n",
    "print(id(n))"
   ]
  },
  {
   "cell_type": "code",
   "execution_count": 5,
   "metadata": {},
   "outputs": [],
   "source": [
    "st = set([123])\n",
    "st.add(456)"
   ]
  }
 ],
 "metadata": {
  "kernelspec": {
   "display_name": "Python 3",
   "language": "python",
   "name": "python3"
  },
  "language_info": {
   "codemirror_mode": {
    "name": "ipython",
    "version": 3
   },
   "file_extension": ".py",
   "mimetype": "text/x-python",
   "name": "python",
   "nbconvert_exporter": "python",
   "pygments_lexer": "ipython3",
   "version": "3.12.6"
  }
 },
 "nbformat": 4,
 "nbformat_minor": 2
}
