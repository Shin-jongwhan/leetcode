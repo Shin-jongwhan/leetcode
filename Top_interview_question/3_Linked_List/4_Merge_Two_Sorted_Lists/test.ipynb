{
 "cells": [
  {
   "cell_type": "code",
   "execution_count": 8,
   "metadata": {},
   "outputs": [
    {
     "name": "stdout",
     "output_type": "stream",
     "text": [
      "None\n",
      "[]\n",
      "1 -> 2 -> 3 -> None\n",
      "[1, 2, 3]\n",
      "[1, 2, 3]\n",
      "1 -> 2 -> 3 -> None\n"
     ]
    }
   ],
   "source": [
    "######################################################\n",
    "# TODO\n",
    "# 1. while문으로 값을 하나씩 꺼내어 2개 리스트로 저장한다.\n",
    "# 2. 2개 리스트를 합치고 오름차순으로 sorting한다.\n",
    "# 3. linked list를 만든다.\n",
    "#\n",
    "# 개선 포인트\n",
    "# 1. 두 개 리스트를 꺼내고 합치고 다시 linked list를 만드는 시간복잡도가 너무 크다. 리스트를 만들지 않고 linked list 상태에서 값을 사용한다면 빠르게 끝낼 수 있다.\n",
    "# 2. 정렬하지 않고 비교문으로 무엇을 먼저 꺼낼지 판단한다.\n",
    "######################################################\n",
    "\n",
    "class ListNode(object):\n",
    "\tdef __init__(self, x=0, next=None):\n",
    "\t\tself.val = x\n",
    "\t\tself.next = None\n",
    "\t\t\n",
    "\n",
    "def create_linked_list(ls) : \n",
    "\tif ls == [] :\n",
    "\t\treturn None\n",
    "\tln = ListNode(ls[0])\n",
    "\tnext = ln\t\t# next는 ln과 동일한 첫 번째 노드를 참조함. 완전히 새로운 변수가 아니기 때문에 ln의 업데이트가 가능.\n",
    "\tfor i in range(1, len(ls)) : \n",
    "\t\tnext.next = ListNode(ls[i])\n",
    "\t\tnext = next.next\n",
    "\n",
    "\treturn ln\n",
    "\n",
    "\n",
    "def print_linked_list(node):\n",
    "    while node:\n",
    "        print(node.val, end=\" -> \")\n",
    "        node = node.next\n",
    "    print(\"None\")\n",
    "\n",
    "\n",
    "def val_to_list(node) : \n",
    "\tls = []\n",
    "\twhile node : \n",
    "\t\tls.append(node.val)\n",
    "\t\tnode = node.next\n",
    "\t\n",
    "\treturn ls\n",
    "\n",
    "\n",
    "list1 = [1,2,4]\n",
    "list2 = [1,3,4]\n",
    "\n",
    "#list1 = []\n",
    "#list2 = []\n",
    "\n",
    "#list1 = [1,2,3]\n",
    "#list2 = []\n",
    "\n",
    "#list1 = []\n",
    "#list2 = [1,2,3]\n",
    "\n",
    "ln1 = create_linked_list(list1)\n",
    "print_linked_list(ln1)\n",
    "lsConvert1 = val_to_list(ln1)\n",
    "print(lsConvert1)\n",
    "\n",
    "ln2 = create_linked_list(list2)\n",
    "print_linked_list(ln2)\n",
    "lsConvert2 = val_to_list(ln2)\n",
    "print(lsConvert2)\n",
    "\n",
    "lsConcat = sorted(lsConvert1 + lsConvert2)\n",
    "print(lsConcat)\n",
    "lnConcat = create_linked_list(lsConcat)\n",
    "print_linked_list(lnConcat)\n"
   ]
  }
 ],
 "metadata": {
  "kernelspec": {
   "display_name": "Python 3",
   "language": "python",
   "name": "python3"
  },
  "language_info": {
   "codemirror_mode": {
    "name": "ipython",
    "version": 3
   },
   "file_extension": ".py",
   "mimetype": "text/x-python",
   "name": "python",
   "nbconvert_exporter": "python",
   "pygments_lexer": "ipython3",
   "version": "3.12.6"
  }
 },
 "nbformat": 4,
 "nbformat_minor": 2
}
