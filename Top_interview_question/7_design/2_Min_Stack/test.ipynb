{
 "cells": [
  {
   "cell_type": "code",
   "execution_count": 42,
   "metadata": {},
   "outputs": [
    {
     "name": "stdout",
     "output_type": "stream",
     "text": [
      "0\n",
      "0\n",
      "0\n"
     ]
    }
   ],
   "source": [
    "from collections import deque\n",
    "\n",
    "class MinStack : \n",
    "\tdef __init__(self) : \n",
    "\t\tself.min_stack = []\n",
    "\t\tself.dqMin = deque([])\n",
    "\n",
    "\n",
    "\tdef push(self, val):\n",
    "\t\t\"\"\"\n",
    "\t\t:type val: int\n",
    "\t\t:rtype: None\n",
    "\t\t\"\"\"\n",
    "\t\tself.min_stack.append(val)\n",
    "\t\t#if self.min != None : \n",
    "\t\t#\tself.min_second = self.min\n",
    "\t\t#if self.min == None or self.min > val : \n",
    "\t\t#\tself.min = val\n",
    "\n",
    "\t\tif not self.dqMin : \n",
    "\t\t\tself.dqMin.append(val)\n",
    "\t\telse : \n",
    "\t\t\tif self.dqMin[-1] >= val : \n",
    "\t\t\t\tself.dqMin.append(val)\n",
    "\t\t\telse :\n",
    "\t\t\t\tself.dqMin.appendleft(val)\n",
    "\n",
    "\n",
    "\tdef pop(self):\n",
    "\t\t\"\"\"\n",
    "\t\t:rtype: None\n",
    "\t\t\"\"\"\n",
    "\t\tif len(self.min_stack) == 0:\n",
    "\t\t\traise IndexError(\"pop from empty list\")\n",
    "\t\t# 마지막 요소 저장\n",
    "\t\tlast_item = self.min_stack[-1]\n",
    "\t\tdel self.min_stack[-1]\n",
    "\t\t\n",
    "\t\tif last_item == self.dqMin[-1] : \n",
    "\t\t\tself.dqMin.pop()\n",
    "\t\t\n",
    "\t\t# 리스트에서 마지막 요소 반환\n",
    "\t\treturn last_item\n",
    "\t\t\n",
    "\n",
    "\tdef top(self):\n",
    "\t\t\"\"\"\n",
    "\t\t:rtype: int\n",
    "\t\t\"\"\"\n",
    "\t\treturn self.min_stack[-1]\n",
    "\t\t\n",
    "\n",
    "\tdef getMin(self):\n",
    "\t\t\"\"\"\n",
    "\t\t:rtype: int\n",
    "\t\t\"\"\"\n",
    "\t\treturn self.dqMin[-1]\n",
    "\t\n",
    "\n",
    "\n",
    "def test_1() : \n",
    "\tls = [-2, 0, -3]\n",
    "\t# [\"MinStack\",\"push\",\"push\",\"push\",\"getMin\",\"pop\",\"top\",\"getMin\"]\n",
    "\tc = MinStack()\n",
    "\tc.push(ls[0])\n",
    "\tc.push(ls[1])\n",
    "\tc.push(ls[2])\n",
    "\tprint(c.getMin())\n",
    "\tprint(c.pop())\n",
    "\tprint(c.top())\n",
    "\tprint(c.getMin())\n",
    "\n",
    "\n",
    "def test_2() : \n",
    "\t# [\"MinStack\",\"push\",\"push\",\"push\",\"getMin\",\"pop\",\"getMin\"]\n",
    "\tls = [0, 1, 0]\n",
    "\tc = MinStack()\n",
    "\tc.push(ls[0])\n",
    "\tc.push(ls[1])\n",
    "\tc.push(ls[2])\n",
    "\tprint(c.getMin())\n",
    "\tprint(c.pop())\n",
    "\tprint(c.getMin())\n",
    "\n",
    "\n",
    "test_2()"
   ]
  },
  {
   "cell_type": "markdown",
   "metadata": {},
   "source": [
    "-3 -> [-3] []\n",
    "-2 -> [-3] [-2]\n",
    "-1 -> [-3] [-2, -1]\n",
    "-4 -> [-3, -4] [-2, -1]"
   ]
  },
  {
   "cell_type": "code",
   "execution_count": 33,
   "metadata": {},
   "outputs": [
    {
     "name": "stdout",
     "output_type": "stream",
     "text": [
      "1.160646915435791\n",
      "\n",
      "0.3022613525390625\n",
      "0.0\n",
      "0.0\n"
     ]
    }
   ],
   "source": [
    "import time\n",
    "ls = list(range(0, 100000000))\n",
    "\n",
    "start_time = time.time()\n",
    "ls = [0] + ls\n",
    "elapsed_time = time.time() - start_time\n",
    "print(elapsed_time)\n",
    "print(\"\")\n",
    "\n",
    "start_time = time.time()\n",
    "ls.append(0)\n",
    "elapsed_time = time.time() - start_time\n",
    "print(elapsed_time)\n",
    "\n",
    "start_time = time.time()\n",
    "ls.append(0)\n",
    "elapsed_time = time.time() - start_time\n",
    "print(elapsed_time)\n",
    "\n",
    "start_time = time.time()\n",
    "ls.append(0)\n",
    "elapsed_time = time.time() - start_time\n",
    "print(elapsed_time)"
   ]
  },
  {
   "cell_type": "code",
   "execution_count": 35,
   "metadata": {},
   "outputs": [
    {
     "name": "stdout",
     "output_type": "stream",
     "text": [
      "3\n"
     ]
    }
   ],
   "source": [
    "from collections import deque\n",
    "\n",
    "dq = deque([1,2,3])\n",
    "print(dq[-1])"
   ]
  }
 ],
 "metadata": {
  "kernelspec": {
   "display_name": "Python 3",
   "language": "python",
   "name": "python3"
  },
  "language_info": {
   "codemirror_mode": {
    "name": "ipython",
    "version": 3
   },
   "file_extension": ".py",
   "mimetype": "text/x-python",
   "name": "python",
   "nbconvert_exporter": "python",
   "pygments_lexer": "ipython3",
   "version": "3.12.6"
  }
 },
 "nbformat": 4,
 "nbformat_minor": 2
}
