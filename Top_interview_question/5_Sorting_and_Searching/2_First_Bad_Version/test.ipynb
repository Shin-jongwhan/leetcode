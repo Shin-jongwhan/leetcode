{
 "cells": [
  {
   "cell_type": "code",
   "execution_count": 61,
   "metadata": {},
   "outputs": [
    {
     "name": "stdout",
     "output_type": "stream",
     "text": [
      "1063376696 False\n",
      "1595065044 False\n",
      "1860909218 True\n",
      "1727987132 True\n",
      "1661526089 False\n",
      "1694756611 False\n",
      "1711371872 True\n",
      "1703064242 True\n",
      "1698910427 False\n",
      "1700987335 False\n",
      "1702025789 False\n",
      "1702545016 False\n",
      "1702804630 True\n",
      "1702674824 False\n",
      "1702739728 False\n",
      "1702772180 True\n",
      "1702755955 False\n",
      "1702764068 False\n",
      "1702768125 True\n",
      "1702766097 False\n",
      "1702767112 True\n",
      "1702766605 False\n",
      "1702766859 True\n",
      "1702766733 True\n",
      "1702766670 False\n",
      "1702766702 False\n",
      "1702766718 False\n",
      "1702766719\n"
     ]
    }
   ],
   "source": [
    "# 리스트 안에서 bool isBadVersion(version)라는 함수로 bed version을 찾는 문제\n",
    "# bad version이 발생한 이후부터는 계속 true이다.\n",
    "# 리스트를 어떻게 탐색할 건지 전략적인 문제다.\n",
    "# 절반에서 시작한다. 만약 true이면 오른쪽에 있는 length만큼 또 절반 이동해서 검사 / 아니면 왼쪽 절반으로 이동해서 검사\n",
    "# 이를 반복해서 찾는다.\n",
    "\n",
    "\n",
    "n = 2126753390\n",
    "bad = 1702766719\n",
    "\n",
    "\n",
    "def isBadVersion(i) : \n",
    "\tif bad <= i : \n",
    "\t\treturn True\n",
    "\telse : \n",
    "\t\treturn False\n",
    "\n",
    "\n",
    "def test() : \n",
    "\tlow = 0\n",
    "\thigh = n\n",
    "\tmid = int((high - low) / 2) + 1\n",
    "\tif (n > 1 and isBadVersion(high) == True and isBadVersion(high - 1) == False) : \n",
    "\t\treturn high\n",
    "\telif isBadVersion(1) == True : \n",
    "\t\treturn 1\n",
    "\n",
    "\tfor i in range(0, n) : \n",
    "\t\tprint(mid, isBadVersion(mid))\n",
    "\t\tif isBadVersion(mid) == True : \n",
    "\t\t\tif isBadVersion(mid - 1) == False : \n",
    "\t\t\t\treturn mid\n",
    "\t\t\thigh = mid\n",
    "\t\t\tmid = int((high + low) / 2) + 1\n",
    "\t\telse : \n",
    "\t\t\tif isBadVersion(mid + 1) == True : \n",
    "\t\t\t\treturn mid + 1\n",
    "\t\t\tlow = mid\n",
    "\t\t\tmid = int((high + low) / 2) + 1\n",
    "\n",
    "\n",
    "output = test()\n",
    "print(output)"
   ]
  }
 ],
 "metadata": {
  "kernelspec": {
   "display_name": "Python 3",
   "language": "python",
   "name": "python3"
  },
  "language_info": {
   "codemirror_mode": {
    "name": "ipython",
    "version": 3
   },
   "file_extension": ".py",
   "mimetype": "text/x-python",
   "name": "python",
   "nbconvert_exporter": "python",
   "pygments_lexer": "ipython3",
   "version": "3.12.6"
  }
 },
 "nbformat": 4,
 "nbformat_minor": 2
}
