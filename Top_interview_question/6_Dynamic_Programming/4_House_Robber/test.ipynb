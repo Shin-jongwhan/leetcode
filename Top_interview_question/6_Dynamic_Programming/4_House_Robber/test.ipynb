{
 "cells": [
  {
   "cell_type": "code",
   "execution_count": 27,
   "metadata": {},
   "outputs": [
    {
     "name": "stdout",
     "output_type": "stream",
     "text": [
      "[2, 2, 3, 3, 4, 4, 6]\n",
      "6\n"
     ]
    }
   ],
   "source": [
    "nums = [1,2,3,1]\n",
    "nums = [1,2,3,1,3]\n",
    "nums = [2,7,9,3,1]\n",
    "nums = [2,1,1,1,1,1,2]\n",
    "\n",
    "def test() : \n",
    "\tn = len(nums)\n",
    "\tif n == 1:\n",
    "\t\treturn nums[0]\n",
    "\tif n == 2:\n",
    "\t\treturn max(nums[0], nums[1])\n",
    "\topt = [0] * n\n",
    "\topt[0], opt[1] = nums[0], max(nums[0], nums[1])\n",
    "\tfor i in range(2, n):\n",
    "\t\topt[i] = max(nums[i] + opt[i-2], opt[i-1])\n",
    "\n",
    "\tprint(opt)\n",
    "\treturn opt[n-1]\n",
    "\n",
    "\n",
    "output = test() \n",
    "print(output)"
   ]
  },
  {
   "cell_type": "code",
   "execution_count": 20,
   "metadata": {},
   "outputs": [
    {
     "data": {
      "text/plain": [
       "3"
      ]
     },
     "execution_count": 20,
     "metadata": {},
     "output_type": "execute_result"
    }
   ],
   "source": [
    "max(3, 3)"
   ]
  }
 ],
 "metadata": {
  "kernelspec": {
   "display_name": "Python 3",
   "language": "python",
   "name": "python3"
  },
  "language_info": {
   "codemirror_mode": {
    "name": "ipython",
    "version": 3
   },
   "file_extension": ".py",
   "mimetype": "text/x-python",
   "name": "python",
   "nbconvert_exporter": "python",
   "pygments_lexer": "ipython3",
   "version": "3.12.6"
  }
 },
 "nbformat": 4,
 "nbformat_minor": 2
}
