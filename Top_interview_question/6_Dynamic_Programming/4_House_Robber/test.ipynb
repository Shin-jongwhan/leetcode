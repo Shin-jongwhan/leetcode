{
 "cells": [
  {
   "cell_type": "code",
   "execution_count": 22,
   "metadata": {},
   "outputs": [
    {
     "name": "stdout",
     "output_type": "stream",
     "text": [
      "2 1\n",
      "1 1\n",
      "1 2\n"
     ]
    }
   ],
   "source": [
    "# 인접한 집(숫자)끼리 더하면 안 되고, 한 칸이나 두 칸 이렇게 떨어져서 합을 구해서 max를 구해야 한다.\n",
    "# idx 0부터 시작하고 3개를 고려한다. 0, 1, 2\n",
    "# ls[0] < ls[1]이면 +ls[1], ls[3] 시작\n",
    "# ls[0] > ls[1]이면 +ls[0], ls[2] 시작\n",
    "\n",
    "nums = [1,2,3,1]\n",
    "nums = [1,2,3,1,3]\n",
    "nums = [2,7,9,3,1]\n",
    "nums = [2,1,1,2]\n",
    "\n",
    "for idx, num in enumerate(nums[1:]):\n",
    "\tprint(nums[idx], num)"
   ]
  },
  {
   "cell_type": "code",
   "execution_count": 20,
   "metadata": {},
   "outputs": [
    {
     "data": {
      "text/plain": [
       "3"
      ]
     },
     "execution_count": 20,
     "metadata": {},
     "output_type": "execute_result"
    }
   ],
   "source": [
    "max(3, 3)"
   ]
  }
 ],
 "metadata": {
  "kernelspec": {
   "display_name": "Python 3",
   "language": "python",
   "name": "python3"
  },
  "language_info": {
   "codemirror_mode": {
    "name": "ipython",
    "version": 3
   },
   "file_extension": ".py",
   "mimetype": "text/x-python",
   "name": "python",
   "nbconvert_exporter": "python",
   "pygments_lexer": "ipython3",
   "version": "3.12.6"
  }
 },
 "nbformat": 4,
 "nbformat_minor": 2
}
