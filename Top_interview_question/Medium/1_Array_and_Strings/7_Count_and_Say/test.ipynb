{
 "cells": [
  {
   "cell_type": "markdown",
   "metadata": {},
   "source": [
    "The count-and-say sequence is a sequence of digit strings defined by the recursive formula:\n",
    "\n",
    "countAndSay(1) = \"1\"\n",
    "countAndSay(n) is the run-length encoding of countAndSay(n - 1).\n",
    "Run-length encoding (RLE) is a string compression method that works by replacing consecutive identical characters (repeated 2 or more times) with the concatenation of the character and the number marking the count of the characters (length of the run). For example, to compress the string \"3322251\" we replace \"33\" with \"23\", replace \"222\" with \"32\", replace \"5\" with \"15\" and replace \"1\" with \"11\". Thus the compressed string becomes \"23321511\".\n",
    "\n",
    "Given a positive integer n, return the nth element of the count-and-say sequence.\n",
    "\n",
    " \n",
    "\n",
    "Example 1:\n",
    "\n",
    "Input: n = 4\n",
    "\n",
    "Output: \"1211\"\n",
    "\n",
    "Explanation:\n",
    "\n",
    "countAndSay(1) = \"1\"\n",
    "\n",
    "countAndSay(2) = RLE of \"1\" = \"11\"\n",
    "\n",
    "countAndSay(3) = RLE of \"11\" = \"21\"\n",
    "\n",
    "countAndSay(4) = RLE of \"21\" = \"1211\"\n",
    "\n",
    "Example 2:\n",
    "\n",
    "Input: n = 1\n",
    "\n",
    "Output: \"1\"\n",
    "\n",
    "Explanation:\n",
    "\n",
    "This is the base case.\n",
    "\n",
    " \n",
    "\n",
    "Constraints:\n",
    "\n",
    "1 <= n <= 30\n",
    " \n",
    "\n",
    "Follow up: Could you solve it iteratively?"
   ]
  },
  {
   "cell_type": "code",
   "execution_count": null,
   "metadata": {},
   "outputs": [
    {
     "name": "stdout",
     "output_type": "stream",
     "text": [
      "deque([[10, 2], [20, 0], [100, 1]])\n",
      "deque([[10, 2], [20, 0], [100, 1]])\n",
      "deque([[5, 4], [10, 2], [20, 0], [100, 1]])\n",
      "deque([[5, 4], [10, 2], [20, 0], [100, 1]])\n",
      "False\n"
     ]
    }
   ],
   "source": []
  }
 ],
 "metadata": {
  "kernelspec": {
   "display_name": "Python 3",
   "language": "python",
   "name": "python3"
  },
  "language_info": {
   "codemirror_mode": {
    "name": "ipython",
    "version": 3
   },
   "file_extension": ".py",
   "mimetype": "text/x-python",
   "name": "python",
   "nbconvert_exporter": "python",
   "pygments_lexer": "ipython3",
   "version": "3.12.6"
  }
 },
 "nbformat": 4,
 "nbformat_minor": 2
}
