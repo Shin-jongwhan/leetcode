{
 "cells": [
  {
   "cell_type": "markdown",
   "metadata": {},
   "source": [
    "Given a string s, return the longest palindromic substring in s.\n",
    "\n",
    " \n",
    "\n",
    "Example 1:\n",
    "\n",
    "Input: s = \"babad\"\n",
    "\n",
    "Output: \"bab\"\n",
    "\n",
    "Explanation: \"aba\" is also a valid answer.\n",
    "\n",
    "Example 2:\n",
    "\n",
    "Input: s = \"cbbd\"\n",
    "\n",
    "Output: \"bb\"\n",
    "\n",
    "\n",
    "Constraints:\n",
    "\n",
    "1 <= s.length <= 1000\n",
    "\n",
    "s consist of only digits and English letters."
   ]
  },
  {
   "cell_type": "code",
   "execution_count": 33,
   "metadata": {},
   "outputs": [
    {
     "name": "stdout",
     "output_type": "stream",
     "text": [
      "a\n"
     ]
    }
   ],
   "source": [
    "# palindromic string은 양쪽 끝에서부터 중간까지 같아야 한다. \n",
    "# 문자열을 처음부터 끝까지 for loop으로 하나씩 읽는다.\n",
    "# 홀수 / 짝수 형태를 구분한다.\n",
    "# 홀수 : i, i - 2와 같은지 검사한다.\n",
    "# 짝수 : i, i - 1이 같은지 검사한다.\n",
    "# 진행하면서 만나면 palindrom의 길이를 구한다.\n",
    "# 만약 저장된 길이보다 최근 발견한 것이 길면 긴 것으로 업데이트한다.\n",
    "\n",
    "s = \"babad\"\n",
    "s = \"cbbd\"\n",
    "s = \"abcaaaaabcdcba\"\n",
    "s = \"ccd\"\n",
    "s = \"ccc\"\n",
    "s = \"aaaa\"\n",
    "s = \"abcd\"\n",
    "\n",
    "\n",
    "def test() : \n",
    "\tif len(s) == 1 : \n",
    "\t\treturn s\n",
    "\telif len(s) == 2 :\n",
    "\t\tif s[0] == s[1] : \n",
    "\t\t\treturn s\n",
    "\t\telse : \n",
    "\t\t\treturn s[0]\n",
    "\t\n",
    "\to = \"\"\n",
    "\tpt = \"\"\t\t# palindrome tmp\n",
    "\tfor i in range(1, len(s)) : \n",
    "\t\tif s[i] == s[i - 2] : \t\t# odd\n",
    "\t\t\tpt = s[i - 2 : i + 1]\n",
    "\t\t\tn = 1\n",
    "\t\t\tprint(\"len(s) - 1, i + n\", len(s) - 1, i + n)\n",
    "\t\t\twhile ((i - 2 - n) >= 0 and (i + n) <= len(s) - 1) and s[i - 2 - n] == s[i + n] : \n",
    "\t\t\t\tpt = s[i - 2 - n : i + n + 1]\n",
    "\t\t\t\tn += 1\n",
    "\t\t\tif len(o) < len(pt) : \n",
    "\t\t\t\to = pt\n",
    "\t\tif s[i] == s[i - 1] : \t\t# even\n",
    "\t\t\tpt = s[i - 1 : i + 1]\n",
    "\t\t\tn = 1\n",
    "\t\t\twhile ((i - 1 - n) >= 0 and (i + n) <= len(s) - 1) and s[i - 1 - n] == s[i + n] : \n",
    "\t\t\t\tpt = s[i - 1 - n : i + n + 1]\n",
    "\t\t\t\tn += 1\n",
    "\t\t\tif len(o) < len(pt) : \n",
    "\t\t\t\to = pt\n",
    "\n",
    "\tif o == \"\" : \n",
    "\t\treturn s[0]\n",
    "\telse : \n",
    "\t\treturn o\n",
    "\n",
    "\n",
    "o = test()\n",
    "print(o)"
   ]
  },
  {
   "cell_type": "code",
   "execution_count": 22,
   "metadata": {},
   "outputs": [
    {
     "data": {
      "text/plain": [
       "1"
      ]
     },
     "execution_count": 22,
     "metadata": {},
     "output_type": "execute_result"
    }
   ],
   "source": [
    "len(set(\"ccc\"))"
   ]
  }
 ],
 "metadata": {
  "kernelspec": {
   "display_name": "Python 3",
   "language": "python",
   "name": "python3"
  },
  "language_info": {
   "codemirror_mode": {
    "name": "ipython",
    "version": 3
   },
   "file_extension": ".py",
   "mimetype": "text/x-python",
   "name": "python",
   "nbconvert_exporter": "python",
   "pygments_lexer": "ipython3",
   "version": "3.12.6"
  }
 },
 "nbformat": 4,
 "nbformat_minor": 2
}
