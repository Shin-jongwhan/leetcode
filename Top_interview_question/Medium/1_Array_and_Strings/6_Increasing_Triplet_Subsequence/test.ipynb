{
 "cells": [
  {
   "cell_type": "markdown",
   "metadata": {},
   "source": [
    "Given an integer array nums, return true if there exists a triple of indices (i, j, k) such that i < j < k and nums[i] < nums[j] < nums[k]. If no such indices exists, return false.\n",
    "\n",
    "\n",
    "\n",
    "Example 1:\n",
    "\n",
    "Input: nums = [1,2,3,4,5]\n",
    "\n",
    "Output: true\n",
    "\n",
    "Explanation: Any triplet where i < j < k is valid.\n",
    "\n",
    "Example 2:\n",
    "\n",
    "Input: nums = [5,4,3,2,1]\n",
    "\n",
    "Output: false\n",
    "\n",
    "Explanation: No triplet exists.\n",
    "\n",
    "Example 3:\n",
    "\n",
    "Input: nums = [2,1,5,0,4,6]\n",
    "\n",
    "Output: true\n",
    "\n",
    "Explanation: The triplet (3, 4, 5) is valid because nums[3] == 0 < nums[4] == 4 < nums[5] == 6.\n",
    " \n",
    "\n",
    "Constraints:\n",
    "\n",
    "1 <= nums.length <= 5 * 105\n",
    "\n",
    "-231 <= nums[i] <= 231 - 1\n",
    " \n",
    "\n",
    "Follow up: Could you implement a solution that runs in O(n) time complexity and O(1) space complexity?"
   ]
  },
  {
   "cell_type": "code",
   "execution_count": null,
   "metadata": {},
   "outputs": [
    {
     "name": "stdout",
     "output_type": "stream",
     "text": [
      "deque([[10, 2], [20, 0], [100, 1]])\n",
      "deque([[10, 2], [20, 0], [100, 1]])\n",
      "deque([[5, 4], [10, 2], [20, 0], [100, 1]])\n",
      "deque([[5, 4], [10, 2], [20, 0], [100, 1]])\n",
      "False\n"
     ]
    }
   ],
   "source": [
    "# 정답 x\n",
    "\n",
    "from collections import deque\n",
    "\n",
    "\n",
    "nums = [1,2,3,4,5]\t\t# True\n",
    "nums = [5,4,3,2,1]\t\t# False\n",
    "nums = [2,1,5,0,4,6]\t\t# True\n",
    "nums = [20,100,10,12,5,13]\t\t# True\n",
    "\n",
    "\n",
    "def test() : \n",
    "\tif len(nums) < 3 : \n",
    "\t\treturn False\n",
    "\t\n",
    "\tdq = deque([[nums[0], 0]])\n",
    "\tif dq[0][0] < nums[1] : \n",
    "\t\tdq.append([nums[1], 1])\n",
    "\telif dq[0][0] > nums[1] : \n",
    "\t\tdq.appendleft([nums[1], 1])\n",
    "\tfor i in range(2, len(nums)) : \n",
    "\t\t# 같은 조건은 무시해도 됨\n",
    "\t\tif dq[-1][0] < nums[i] : \n",
    "\t\t\tdq.append([nums[i], i])\n",
    "\t\t\tif dq[-3][1] < dq[-2][1] and dq[-2][1] < dq[-1][1] : \n",
    "\t\t\t\treturn True\n",
    "\t\telif dq[0][0] > nums[i] : \n",
    "\t\t\tdq.appendleft([nums[i], i])\n",
    "\t\t\tif dq[0][1] < dq[1][1] and dq[1][1] < dq[2][1] : \n",
    "\t\t\t\treturn True\n",
    "\t\tprint(dq)\n",
    "\t\t\t\n",
    "\treturn False\n",
    "\n",
    "\n",
    "o = test()\n",
    "print(o)"
   ]
  },
  {
   "cell_type": "code",
   "execution_count": null,
   "metadata": {},
   "outputs": [],
   "source": [
    "dq = deque([1,2])"
   ]
  }
 ],
 "metadata": {
  "kernelspec": {
   "display_name": "Python 3",
   "language": "python",
   "name": "python3"
  },
  "language_info": {
   "codemirror_mode": {
    "name": "ipython",
    "version": 3
   },
   "file_extension": ".py",
   "mimetype": "text/x-python",
   "name": "python",
   "nbconvert_exporter": "python",
   "pygments_lexer": "ipython3",
   "version": "3.12.6"
  }
 },
 "nbformat": 4,
 "nbformat_minor": 2
}
