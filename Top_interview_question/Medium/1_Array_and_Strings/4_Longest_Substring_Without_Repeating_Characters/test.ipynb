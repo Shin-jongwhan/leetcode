{
 "cells": [
  {
   "cell_type": "markdown",
   "metadata": {},
   "source": [
    "Given a string s, find the length of the longest substring without repeating characters.\n",
    "\n",
    " \n",
    "\n",
    "Example 1:\n",
    "\n",
    "Input: s = \"abcabcbb\"\n",
    "\n",
    "Output: 3\n",
    "\n",
    "Explanation: The answer is \"abc\", with the length of 3.\n",
    "\n",
    "Example 2:\n",
    "\n",
    "Input: s = \"bbbbb\"\n",
    "Output: 1\n",
    "\n",
    "Explanation: The answer is \"b\", with the length of 1.\n",
    "\n",
    "Example 3:\n",
    "\n",
    "Input: s = \"pwwkew\"\n",
    "\n",
    "Output: 3\n",
    "\n",
    "Explanation: The answer is \"wke\", with the length of 3.\n",
    "\n",
    "Notice that the answer must be a substring, \"pwke\" is a subsequence and not a substring.\n",
    " \n",
    "\n",
    "Constraints:\n",
    "\n",
    "0 <= s.length <= 5 * 104\n",
    "\n",
    "s consists of English letters, digits, symbols and spaces."
   ]
  },
  {
   "cell_type": "code",
   "execution_count": null,
   "metadata": {},
   "outputs": [
    {
     "name": "stdout",
     "output_type": "stream",
     "text": [
      "1 4\n",
      "abc\n",
      "3\n"
     ]
    }
   ],
   "source": [
    "# 정답인데 너무 느리다. 내가 원하던 건 간단한 거였는데, 계속 정답이 틀린 게 나와서 코드를 추가하다보니 복잡해졌다.\n",
    "\n",
    "s = \"abcabcbb\"\t\t# 3\n",
    "#s = \"bbbbb\"\t\t# 1\n",
    "#s = \"pwwkew\"\t\t# 3\n",
    "#s = \" \"\t\t# 1\n",
    "#s = \"aab\"\t\t# 2\n",
    "#s = \"dvdf\"\t\t# 3\n",
    "#s = \"anviaj\"\t\t# 5\n",
    "#s = \"nfpdmpi\"\t\t# 5\n",
    "#s = \"jbpnbwwd\"\t\t# 4\n",
    "\n",
    "\n",
    "def test() : \n",
    "\tdicChar = {}\t\t# key : 들어간 문자, value : None\n",
    "\to_tmp = \"\"\n",
    "\to = \"\"\n",
    "\tblSelect = False\n",
    "\tfor i in range(0, len(s)) : \n",
    "\t\t#print(\"s[i]\", s[i])\n",
    "\t\tif s[i] not in dicChar.keys() : \n",
    "\t\t\tblSelect = False\n",
    "\t\t\tdicChar[s[i]] = i\n",
    "\t\t\to_tmp += s[i]\n",
    "\t\t\t#print(\"o_tmp 1\", o_tmp)\n",
    "\t\telse : \n",
    "\t\t\tblSelect = True\n",
    "\t\t\tif len(o) < len(o_tmp) : \n",
    "\t\t\t\to = o_tmp\n",
    "\t\t\t\tprint(dicChar[s[i]] + 1 , i + 1)\n",
    "\t\t\to_tmp = s[dicChar[s[i]] + 1 : i + 1]\n",
    "\t\t\t#print(o_tmp)\n",
    "\t\t\tdicChar_tmp = {}\n",
    "\t\t\tfor j in range(0, len(o_tmp)) : \n",
    "\t\t\t\tif o_tmp[j] in dicChar.keys() : \n",
    "\t\t\t\t\tdicChar_tmp[o_tmp[j]] = dicChar[o_tmp[j]]\n",
    "\t\t\tdicChar_tmp[s[i]] = i\n",
    "\t\t\tdicChar = dicChar_tmp\n",
    "\n",
    "\tif blSelect == False and len(o) < len(o_tmp) : \n",
    "\t\to = o_tmp\n",
    "\n",
    "\tprint(o)\n",
    "\treturn len(o)\n",
    "\n",
    "\n",
    "o = test()\n",
    "print(o)"
   ]
  },
  {
   "cell_type": "code",
   "execution_count": 21,
   "metadata": {},
   "outputs": [
    {
     "name": "stdout",
     "output_type": "stream",
     "text": [
      "5\n"
     ]
    },
    {
     "data": {
      "text/plain": [
       "5"
      ]
     },
     "execution_count": 21,
     "metadata": {},
     "output_type": "execute_result"
    }
   ],
   "source": [
    "# dict에 문자와 idx를 추가한다.\n",
    "# 만약 dict에 이미 있는 문자를 만나면 dict를 초기화한다.\n",
    "\n",
    "s = \"abcabcbb\"\t\t# 3\n",
    "s = \"bbbbb\"\t\t# 1\n",
    "s = \"pwwkew\"\t\t# 3\n",
    "s = \" \"\t\t# 1\n",
    "s = \"aab\"\t\t# 2\n",
    "s = \"dvdf\"\t\t# 3\n",
    "s = \"anviaj\"\t\t# 5\n",
    "s = \"nfpdmpi\"\t\t# 5\n",
    "#s = \"jbpnbwwd\"\t\t# 4\n",
    "#s = \"abba\"\t\t# 2\n",
    "\n",
    "def test() : \n",
    "\tdicChar = {}\n",
    "\to = 0\n",
    "\tstart = 0\n",
    "\tlength= 0\n",
    "\tfor i in range(0, len(s)) : \n",
    "\t\t# dicChar[s[i]] >= start는 이미 전에 key가 추가된 적이 있고 substring 영역에서 발생했다면, 중복된 것이므로 업데이트\n",
    "\t\t# dicChar[s[i]] < start인 경우를 생각해보면, 이미 key가 추가가 되었지만 업데이트가 되어 이전 substring 쪽이고, 이 경우는 substring 영역 전에 발생한 것이므로 고려하면 안 된다.\n",
    "\t\tif s[i] in dicChar and dicChar[s[i]] >= start :\n",
    "\t\t\tstart = dicChar[s[i]] + 1\n",
    "\t\t\tdicChar[s[i]] = i\n",
    "\t\telse : \n",
    "\t\t\tdicChar[s[i]] = i\n",
    "\t\t\tlength = i - start + 1\n",
    "\t\t\tif o < length : \n",
    "\t\t\t\to = length\n",
    "\t\t\n",
    "\n",
    "\tprint(o)\n",
    "\treturn o\n",
    "\n",
    "\n",
    "test()"
   ]
  }
 ],
 "metadata": {
  "kernelspec": {
   "display_name": "Python 3",
   "language": "python",
   "name": "python3"
  },
  "language_info": {
   "codemirror_mode": {
    "name": "ipython",
    "version": 3
   },
   "file_extension": ".py",
   "mimetype": "text/x-python",
   "name": "python",
   "nbconvert_exporter": "python",
   "pygments_lexer": "ipython3",
   "version": "3.12.6"
  }
 },
 "nbformat": 4,
 "nbformat_minor": 2
}
