{
 "cells": [
  {
   "cell_type": "markdown",
   "metadata": {},
   "source": [
    "Given an m x n integer matrix matrix, if an element is 0, set its entire row and column to 0's.\n",
    "\n",
    "You must do it in place.\n",
    "\n",
    " \n",
    "\n",
    "Example 1:\n",
    "\n",
    "\n",
    "Input: matrix = [[1,1,1],[1,0,1],[1,1,1]]\n",
    "\n",
    "Output: [[1,0,1],[0,0,0],[1,0,1]]\n",
    "\n",
    "Example 2:\n",
    "\n",
    "\n",
    "Input: matrix = [[0,1,2,0],[3,4,5,2],[1,3,1,5]]\n",
    "\n",
    "Output: [[0,0,0,0],[0,4,5,0],[0,3,1,0]]\n",
    " \n",
    "\n",
    "Constraints:\n",
    "\n",
    "m == matrix.length\n",
    "n == matrix[0].length\n",
    "1 <= m, n <= 200\n",
    "-231 <= matrix[i][j] <= 231 - 1\n",
    " \n",
    "\n",
    "Follow up:\n",
    "\n",
    "A straightforward solution using O(mn) space is probably a bad idea.\n",
    "A simple improvement uses O(m + n) space, but still not the best solution.\n",
    "Could you devise a constant space solution?"
   ]
  },
  {
   "cell_type": "code",
   "execution_count": null,
   "metadata": {},
   "outputs": [
    {
     "name": "stdout",
     "output_type": "stream",
     "text": [
      "[[0, 0], [0, 3]]\n",
      "[0, 0]\n",
      "0 0\n",
      "1 0\n",
      "2 0\n",
      "[0, 3]\n",
      "0 3\n",
      "1 3\n",
      "2 3\n",
      "[[0, 0, 0, 0], [0, 4, 5, 0], [0, 3, 1, 0]]\n"
     ]
    }
   ],
   "source": [
    "#matrix = [[1,1,1],[1,0,1],[1,1,1]]\n",
    "#matrix = [[0,1,2,0],[3,4,5,2],[1,3,1,5]]\n",
    "\n",
    "\n",
    "def test() : \n",
    "\t#matrix = [[1,1,1],[1,0,1],[1,1,1]]\n",
    "\tmatrix = [[0,1,2,0],[3,4,5,2],[1,3,1,5]]\n",
    "\tlsM_zr = []\n",
    "\tfor i in range(0, len(matrix)) : \n",
    "\t\tfor j in range(0, len(matrix[i])) : \n",
    "\t\t\tif matrix[i][j] == 0 : \n",
    "\t\t\t\tlsM_zr.append([i, j])\n",
    "\n",
    "\t#print(lsM_zr)\n",
    "\tfor i in range(0, len(lsM_zr)) : \n",
    "\t\t#print(lsM_zr[i])\n",
    "\t\tmatrix[lsM_zr[i][0]] = [0] * len(matrix[lsM_zr[i][0]])\n",
    "\t\tfor j in range(0, len(matrix)) : \n",
    "\t\t\tmatrix[j][lsM_zr[i][1]] = 0\n",
    "\n",
    "\tprint(matrix)\n",
    "\n",
    "test()"
   ]
  }
 ],
 "metadata": {
  "kernelspec": {
   "display_name": "Python 3",
   "language": "python",
   "name": "python3"
  },
  "language_info": {
   "codemirror_mode": {
    "name": "ipython",
    "version": 3
   },
   "file_extension": ".py",
   "mimetype": "text/x-python",
   "name": "python",
   "nbconvert_exporter": "python",
   "pygments_lexer": "ipython3",
   "version": "3.12.6"
  }
 },
 "nbformat": 4,
 "nbformat_minor": 2
}
