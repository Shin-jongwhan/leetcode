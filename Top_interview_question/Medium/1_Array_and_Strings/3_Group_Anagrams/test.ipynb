{
 "cells": [
  {
   "cell_type": "markdown",
   "metadata": {},
   "source": [
    "Given an array of strings strs, group the anagrams together. You can return the answer in any order.\n",
    "\n",
    " \n",
    "\n",
    "Example 1:\n",
    "\n",
    "Input: strs = [\"eat\",\"tea\",\"tan\",\"ate\",\"nat\",\"bat\"]\n",
    "\n",
    "Output: [[\"bat\"],[\"nat\",\"tan\"],[\"ate\",\"eat\",\"tea\"]]\n",
    "\n",
    "Explanation:\n",
    "\n",
    "There is no string in strs that can be rearranged to form \"bat\".\n",
    "\n",
    "The strings \"nat\" and \"tan\" are anagrams as they can be rearranged to form each other.\n",
    "\n",
    "The strings \"ate\", \"eat\", and \"tea\" are anagrams as they can be rearranged to form each other.\n",
    "\n",
    "Example 2:\n",
    "\n",
    "Input: strs = [\"\"]\n",
    "\n",
    "Output: [[\"\"]]\n",
    "\n",
    "Example 3:\n",
    "\n",
    "Input: strs = [\"a\"]\n",
    "\n",
    "Output: [[\"a\"]]\n",
    "\n",
    " \n",
    "\n",
    "Constraints:\n",
    "\n",
    "1 <= strs.length <= 104\n",
    "\n",
    "0 <= strs[i].length <= 100\n",
    "\n",
    "strs[i] consists of lowercase English letters."
   ]
  },
  {
   "cell_type": "code",
   "execution_count": 19,
   "metadata": {},
   "outputs": [
    {
     "name": "stdout",
     "output_type": "stream",
     "text": [
      "{'abc': ['cab'], 'int': ['tin'], 'epw': ['pew'], 'dhu': ['duh'], 'amy': ['may'], 'ill': ['ill'], 'buy': ['buy'], 'abr': ['bar'], 'amx': ['max'], 'cdo': ['doc']}\n",
      "[['cab'], ['tin'], ['pew'], ['duh'], ['may'], ['ill'], ['buy'], ['bar'], ['max'], ['doc']]\n"
     ]
    },
    {
     "data": {
      "text/plain": [
       "[['cab'],\n",
       " ['tin'],\n",
       " ['pew'],\n",
       " ['duh'],\n",
       " ['may'],\n",
       " ['ill'],\n",
       " ['buy'],\n",
       " ['bar'],\n",
       " ['max'],\n",
       " ['doc']]"
      ]
     },
     "execution_count": 19,
     "metadata": {},
     "output_type": "execute_result"
    }
   ],
   "source": [
    "# anagram : 문자 순서와 관계 없이 문자 구성이 같은 것\n",
    "#strs = [\"eat\",\"tea\",\"tan\",\"ate\",\"nat\",\"bat\"]\n",
    "strs = [\"cab\",\"tin\",\"pew\",\"duh\",\"may\",\"ill\",\"buy\",\"bar\",\"max\",\"doc\"]\n",
    "\n",
    "def test() : \n",
    "\t# 각 단어를 정렬하여 애너그램 구분 키로 사용\n",
    "    dicOrd = {}\n",
    "    for i in strs:\n",
    "        sorted_str = ''.join(sorted(i))  # 단어를 정렬한 결과를 키로 사용\n",
    "        if sorted_str not in dicOrd:\n",
    "            dicOrd[sorted_str] = [i]\n",
    "        else:\n",
    "            dicOrd[sorted_str].append(i)\n",
    "    \n",
    "    print(dicOrd)\n",
    "    output = list(dicOrd.values())\n",
    "    print(output)\n",
    "\n",
    "    return output\n",
    "\n",
    "\n",
    "test()"
   ]
  }
 ],
 "metadata": {
  "kernelspec": {
   "display_name": "Python 3",
   "language": "python",
   "name": "python3"
  },
  "language_info": {
   "codemirror_mode": {
    "name": "ipython",
    "version": 3
   },
   "file_extension": ".py",
   "mimetype": "text/x-python",
   "name": "python",
   "nbconvert_exporter": "python",
   "pygments_lexer": "ipython3",
   "version": "3.12.6"
  }
 },
 "nbformat": 4,
 "nbformat_minor": 2
}
